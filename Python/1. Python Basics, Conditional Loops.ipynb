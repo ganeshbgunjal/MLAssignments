{
 "cells": [
  {
   "cell_type": "code",
   "execution_count": 1,
   "metadata": {},
   "outputs": [
    {
     "name": "stdout",
     "output_type": "stream",
     "text": [
      "['2030', '2065', '2100', '2135', '2170', '2205', '2240', '2275', '2310', '2345', '2380', '2415', '2450', '2485', '2520', '2555', '2590', '2625', '2660', '2695', '2730', '2765', '2800', '2835', '2870', '2905', '2940', '2975', '3010', '3045', '3080', '3115', '3150', '3185']\n",
      "***********************************************************\n",
      "2030,2065,2100,2135,2170,2205,2240,2275,2310,2345,2380,2415,2450,2485,2520,2555,2590,2625,2660,2695,2730,2765,2800,2835,2870,2905,2940,2975,3010,3045,3080,3115,3150,3185\n"
     ]
    }
   ],
   "source": [
    "# Que-1) Write a program which will find all such numbers which are \n",
    "#        ddivisible by 7 but not a multiple of 5, between 2000 and 3200\n",
    "#        both included). The numbers obtained should be printed in a \n",
    "#        comma separated value sequence on a line. \n",
    "\n",
    "\n",
    "emptyList = [] # to store all values between 2000 and 3200\n",
    "for i in range(2001,3201): \n",
    "    if (i % 7 == 0) and (i % 5 == 0):\n",
    "        emptyList.append(str(i))\n",
    "print(emptyList) #It will show all values in the form of string, we want them in a comma separated format.\n",
    "print('***********************************************************')\n",
    "print(','.join(emptyList)) # join function will separate all value in the comma separated form. \n",
    "       "
   ]
  },
  {
   "cell_type": "code",
   "execution_count": 1,
   "metadata": {},
   "outputs": [
    {
     "name": "stdout",
     "output_type": "stream",
     "text": [
      "Enter name: ganesh\n",
      "Enter name: gunjal\n",
      "full name is: ganesh gunjal\n",
      "reversed of fist name and last name is: hsenag lajnug\n"
     ]
    }
   ],
   "source": [
    "# Que-2) write a program to accept users first name and last name and then getting them printed \n",
    "#        in the reverse order with a space between first name and last name\n",
    "    \n",
    "first_name = input(\"Enter name: \") # accepting first name\n",
    "last_name = input(\"Enter name: \")   # accepting first name\n",
    "full_name = first_name +\" \"+ last_name\n",
    "print(f'full name is: { full_name}')\n",
    "print(f'reversed of fist name and last name is: {first_name[::-1]+\" \"+last_name[::-1]}')\n",
    "\n"
   ]
  },
  {
   "cell_type": "code",
   "execution_count": 3,
   "metadata": {},
   "outputs": [
    {
     "name": "stdout",
     "output_type": "stream",
     "text": [
      "Volume of given Sphere is 904.752\n"
     ]
    }
   ],
   "source": [
    "# Que-3)  write a python program to find the volume of a sphere with \n",
    "#         diameter 12 cm.\n",
    "#         we have formula   V=(4/3)*π*r*r*r\n",
    "#         here diameter is 12 cm. So radius is 6 cm. \n",
    "# we have    \n",
    "# pi = 3.1415926535897931\n",
    "# r= 6.0\n",
    "\n",
    "Volume = (4/3)*3.1415*6*6*6\n",
    "print('Volume of given Sphere is',round(Volume,3))"
   ]
  }
 ],
 "metadata": {
  "kernelspec": {
   "display_name": "Python 3",
   "language": "python",
   "name": "python3"
  },
  "language_info": {
   "codemirror_mode": {
    "name": "ipython",
    "version": 3
   },
   "file_extension": ".py",
   "mimetype": "text/x-python",
   "name": "python",
   "nbconvert_exporter": "python",
   "pygments_lexer": "ipython3",
   "version": "3.7.4"
  }
 },
 "nbformat": 4,
 "nbformat_minor": 2
}
