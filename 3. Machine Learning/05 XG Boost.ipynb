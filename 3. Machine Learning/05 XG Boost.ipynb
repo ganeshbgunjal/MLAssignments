{
 "cells": [
  {
   "cell_type": "code",
   "execution_count": 1,
   "id": "c6d00867",
   "metadata": {},
   "outputs": [],
   "source": [
    "# In this assignment students need to predict whether a person makes over\n",
    "# 50K per year or not from classic adult dataset using XGBoost. The\n",
    "# description of the dataset is as follows:\n",
    "\n",
    "# Data Set Information:\n",
    "\n",
    "# Extraction was done by Barry Becker from the 1994 Census\n",
    "# database. A set of reasonably clean records was extracted using the\n",
    "# following conditions: ((AAGE>16) && (AGI>100) &&\n",
    "# (AFNLWGT>1)&& (HRSWK>0))\n",
    "\n",
    "# Attribute Information:\n",
    "# Listing of attributes: >50K, <=50K.\n",
    "# age: continuous.\n",
    "# workclass: Private, Self-emp-not-inc, Self-emp-inc, Federal-gov,\n",
    "# Local-gov, State-gov, Without-pay, Never-worked.\n",
    "# fnlwgt: continuous.\n",
    "# education: Bachelors, Some-college, 11th, HS-grad, Prof-school,\n",
    "# Assoc-acdm, Assoc-voc, 9th, 7th-8th, 12th, Masters, 1st-4th, 10th,\n",
    "# Doctorate, 5th-6th, Preschool.\n",
    "# education-num: continuous.\n",
    "\n",
    "# marital-status: Married-civ-spouse, Divorced, Never-married,\n",
    "# Separated, Widowed, Married-spouse-absent, Married-AF-spouse.\n",
    "\n",
    "# occupation: Tech-support, Craft-repair, Other-service, Sales, Exec-\n",
    "# managerial, Prof-specialty, Handlers-cleaners, Machine-op-inspct,\n",
    "\n",
    "# Adm-clerical, Farming-fishing, Transport-moving, Priv-house-serv,\n",
    "# Protective-serv, Armed-Forces.\n",
    "# relationship: Wife, Own-child, Husband, Not-in-family, Other-relative,\n",
    "# Unmarried.\n",
    "# race: White, Asian-Pac-Islander, Amer-Indian-Eskimo, Other, Black.\n",
    "# sex: Female, Male.\n",
    "# capital-gain: continuous.\n",
    "# capital-loss: continuous.\n",
    "# hours-per-week: continuous.\n",
    "# native-country: United-States, Cambodia, England, Puerto-Rico,\n",
    "# Canada, Germany, Outlying-US(Guam-USVI-etc), India, Japan,\n",
    "# Greece, South, China, Cuba, Iran, Honduras, Philippines, Italy,\n",
    "# Poland, Jamaica, Vietnam, Mexico, Portugal, Ireland, France,\n",
    "# Dominican-Republic, Laos, Ecuador, Taiwan, Haiti, Columbia,\n",
    "\n",
    "# Hungary, Guatemala, Nicaragua, Scotland, Thailand, Yugoslavia, El-\n",
    "# Salvador, Trinadad&Tobago, Peru, Hong, Holand-Netherlands.\n",
    "\n",
    "# Following is the code to load required libraries and data:\n",
    "\n",
    "\n"
   ]
  },
  {
   "cell_type": "code",
   "execution_count": 2,
   "id": "c01cd064",
   "metadata": {},
   "outputs": [],
   "source": [
    "# import numpy as np\n",
    "# import pandas as pd\n",
    "\n",
    "# train_set = pd.read_csv('http://archive.ics.uci.edu/ml/machine-\n",
    "# learning-databases/adult/adult.dat a', header = None)\n",
    "\n",
    "# test_set = pd.read_csv('http://archive.ics.uci.edu/ml/machine-learning-\n",
    "# databases/adult/adult.test' , skiprows = 1, header = None)\n",
    "\n",
    "# col_labels = ['age', 'workclass', 'fnlwgt', 'education', 'education_num',\n",
    "# 'marital_status', 'occupation','relationship', 'race', 'sex', capital_gain',\n",
    "# 'capital_loss', 'hours_per_week', 'native_country', 'wage_class']\n",
    "\n",
    "# train_set.columns = col_labels\n",
    "# test_set.columns = col_labels\n"
   ]
  },
  {
   "cell_type": "code",
   "execution_count": 3,
   "id": "84280824",
   "metadata": {},
   "outputs": [],
   "source": [
    "# importing necessory libraries\n",
    "import numpy as np\n",
    "import pandas as pd\n",
    "import matplotlib.pyplot as plt\n",
    "import warnings\n",
    "warnings.filterwarnings('ignore')\n",
    "\n"
   ]
  },
  {
   "cell_type": "code",
   "execution_count": 4,
   "id": "09b2169a",
   "metadata": {},
   "outputs": [],
   "source": [
    "col_labels = ['age', 'workclass', 'fnlwgt', 'education', 'education_num','marital_status', 'occupation','relationship', 'race', 'sex', 'capital_gain',\n",
    "'capital_loss', 'hours_per_week', 'native_country', 'wage_class']"
   ]
  },
  {
   "cell_type": "code",
   "execution_count": 5,
   "id": "f98dbb28",
   "metadata": {},
   "outputs": [],
   "source": [
    "train_set = pd.read_csv('http://archive.ics.uci.edu/ml/machine-learning-databases/adult/adult.data',names=col_labels, header = None)"
   ]
  },
  {
   "cell_type": "code",
   "execution_count": 6,
   "id": "c05a6468",
   "metadata": {},
   "outputs": [
    {
     "data": {
      "text/html": [
       "<div>\n",
       "<style scoped>\n",
       "    .dataframe tbody tr th:only-of-type {\n",
       "        vertical-align: middle;\n",
       "    }\n",
       "\n",
       "    .dataframe tbody tr th {\n",
       "        vertical-align: top;\n",
       "    }\n",
       "\n",
       "    .dataframe thead th {\n",
       "        text-align: right;\n",
       "    }\n",
       "</style>\n",
       "<table border=\"1\" class=\"dataframe\">\n",
       "  <thead>\n",
       "    <tr style=\"text-align: right;\">\n",
       "      <th></th>\n",
       "      <th>age</th>\n",
       "      <th>workclass</th>\n",
       "      <th>fnlwgt</th>\n",
       "      <th>education</th>\n",
       "      <th>education_num</th>\n",
       "      <th>marital_status</th>\n",
       "      <th>occupation</th>\n",
       "      <th>relationship</th>\n",
       "      <th>race</th>\n",
       "      <th>sex</th>\n",
       "      <th>capital_gain</th>\n",
       "      <th>capital_loss</th>\n",
       "      <th>hours_per_week</th>\n",
       "      <th>native_country</th>\n",
       "      <th>wage_class</th>\n",
       "    </tr>\n",
       "  </thead>\n",
       "  <tbody>\n",
       "    <tr>\n",
       "      <th>0</th>\n",
       "      <td>39</td>\n",
       "      <td>State-gov</td>\n",
       "      <td>77516</td>\n",
       "      <td>Bachelors</td>\n",
       "      <td>13</td>\n",
       "      <td>Never-married</td>\n",
       "      <td>Adm-clerical</td>\n",
       "      <td>Not-in-family</td>\n",
       "      <td>White</td>\n",
       "      <td>Male</td>\n",
       "      <td>2174</td>\n",
       "      <td>0</td>\n",
       "      <td>40</td>\n",
       "      <td>United-States</td>\n",
       "      <td>&lt;=50K</td>\n",
       "    </tr>\n",
       "    <tr>\n",
       "      <th>1</th>\n",
       "      <td>50</td>\n",
       "      <td>Self-emp-not-inc</td>\n",
       "      <td>83311</td>\n",
       "      <td>Bachelors</td>\n",
       "      <td>13</td>\n",
       "      <td>Married-civ-spouse</td>\n",
       "      <td>Exec-managerial</td>\n",
       "      <td>Husband</td>\n",
       "      <td>White</td>\n",
       "      <td>Male</td>\n",
       "      <td>0</td>\n",
       "      <td>0</td>\n",
       "      <td>13</td>\n",
       "      <td>United-States</td>\n",
       "      <td>&lt;=50K</td>\n",
       "    </tr>\n",
       "    <tr>\n",
       "      <th>2</th>\n",
       "      <td>38</td>\n",
       "      <td>Private</td>\n",
       "      <td>215646</td>\n",
       "      <td>HS-grad</td>\n",
       "      <td>9</td>\n",
       "      <td>Divorced</td>\n",
       "      <td>Handlers-cleaners</td>\n",
       "      <td>Not-in-family</td>\n",
       "      <td>White</td>\n",
       "      <td>Male</td>\n",
       "      <td>0</td>\n",
       "      <td>0</td>\n",
       "      <td>40</td>\n",
       "      <td>United-States</td>\n",
       "      <td>&lt;=50K</td>\n",
       "    </tr>\n",
       "    <tr>\n",
       "      <th>3</th>\n",
       "      <td>53</td>\n",
       "      <td>Private</td>\n",
       "      <td>234721</td>\n",
       "      <td>11th</td>\n",
       "      <td>7</td>\n",
       "      <td>Married-civ-spouse</td>\n",
       "      <td>Handlers-cleaners</td>\n",
       "      <td>Husband</td>\n",
       "      <td>Black</td>\n",
       "      <td>Male</td>\n",
       "      <td>0</td>\n",
       "      <td>0</td>\n",
       "      <td>40</td>\n",
       "      <td>United-States</td>\n",
       "      <td>&lt;=50K</td>\n",
       "    </tr>\n",
       "    <tr>\n",
       "      <th>4</th>\n",
       "      <td>28</td>\n",
       "      <td>Private</td>\n",
       "      <td>338409</td>\n",
       "      <td>Bachelors</td>\n",
       "      <td>13</td>\n",
       "      <td>Married-civ-spouse</td>\n",
       "      <td>Prof-specialty</td>\n",
       "      <td>Wife</td>\n",
       "      <td>Black</td>\n",
       "      <td>Female</td>\n",
       "      <td>0</td>\n",
       "      <td>0</td>\n",
       "      <td>40</td>\n",
       "      <td>Cuba</td>\n",
       "      <td>&lt;=50K</td>\n",
       "    </tr>\n",
       "  </tbody>\n",
       "</table>\n",
       "</div>"
      ],
      "text/plain": [
       "   age          workclass  fnlwgt   education  education_num  \\\n",
       "0   39          State-gov   77516   Bachelors             13   \n",
       "1   50   Self-emp-not-inc   83311   Bachelors             13   \n",
       "2   38            Private  215646     HS-grad              9   \n",
       "3   53            Private  234721        11th              7   \n",
       "4   28            Private  338409   Bachelors             13   \n",
       "\n",
       "        marital_status          occupation    relationship    race      sex  \\\n",
       "0        Never-married        Adm-clerical   Not-in-family   White     Male   \n",
       "1   Married-civ-spouse     Exec-managerial         Husband   White     Male   \n",
       "2             Divorced   Handlers-cleaners   Not-in-family   White     Male   \n",
       "3   Married-civ-spouse   Handlers-cleaners         Husband   Black     Male   \n",
       "4   Married-civ-spouse      Prof-specialty            Wife   Black   Female   \n",
       "\n",
       "   capital_gain  capital_loss  hours_per_week  native_country wage_class  \n",
       "0          2174             0              40   United-States      <=50K  \n",
       "1             0             0              13   United-States      <=50K  \n",
       "2             0             0              40   United-States      <=50K  \n",
       "3             0             0              40   United-States      <=50K  \n",
       "4             0             0              40            Cuba      <=50K  "
      ]
     },
     "execution_count": 6,
     "metadata": {},
     "output_type": "execute_result"
    }
   ],
   "source": [
    "train_set.head()"
   ]
  },
  {
   "cell_type": "code",
   "execution_count": 7,
   "id": "06f47779",
   "metadata": {},
   "outputs": [],
   "source": [
    "test_set = pd.read_csv('http://archive.ics.uci.edu/ml/machine-learning-databases/adult/adult.test',names=col_labels, skiprows = 1, header = None)"
   ]
  },
  {
   "cell_type": "code",
   "execution_count": 8,
   "id": "5032f554",
   "metadata": {},
   "outputs": [
    {
     "data": {
      "text/html": [
       "<div>\n",
       "<style scoped>\n",
       "    .dataframe tbody tr th:only-of-type {\n",
       "        vertical-align: middle;\n",
       "    }\n",
       "\n",
       "    .dataframe tbody tr th {\n",
       "        vertical-align: top;\n",
       "    }\n",
       "\n",
       "    .dataframe thead th {\n",
       "        text-align: right;\n",
       "    }\n",
       "</style>\n",
       "<table border=\"1\" class=\"dataframe\">\n",
       "  <thead>\n",
       "    <tr style=\"text-align: right;\">\n",
       "      <th></th>\n",
       "      <th>age</th>\n",
       "      <th>workclass</th>\n",
       "      <th>fnlwgt</th>\n",
       "      <th>education</th>\n",
       "      <th>education_num</th>\n",
       "      <th>marital_status</th>\n",
       "      <th>occupation</th>\n",
       "      <th>relationship</th>\n",
       "      <th>race</th>\n",
       "      <th>sex</th>\n",
       "      <th>capital_gain</th>\n",
       "      <th>capital_loss</th>\n",
       "      <th>hours_per_week</th>\n",
       "      <th>native_country</th>\n",
       "      <th>wage_class</th>\n",
       "    </tr>\n",
       "  </thead>\n",
       "  <tbody>\n",
       "    <tr>\n",
       "      <th>0</th>\n",
       "      <td>25</td>\n",
       "      <td>Private</td>\n",
       "      <td>226802</td>\n",
       "      <td>11th</td>\n",
       "      <td>7</td>\n",
       "      <td>Never-married</td>\n",
       "      <td>Machine-op-inspct</td>\n",
       "      <td>Own-child</td>\n",
       "      <td>Black</td>\n",
       "      <td>Male</td>\n",
       "      <td>0</td>\n",
       "      <td>0</td>\n",
       "      <td>40</td>\n",
       "      <td>United-States</td>\n",
       "      <td>&lt;=50K.</td>\n",
       "    </tr>\n",
       "    <tr>\n",
       "      <th>1</th>\n",
       "      <td>38</td>\n",
       "      <td>Private</td>\n",
       "      <td>89814</td>\n",
       "      <td>HS-grad</td>\n",
       "      <td>9</td>\n",
       "      <td>Married-civ-spouse</td>\n",
       "      <td>Farming-fishing</td>\n",
       "      <td>Husband</td>\n",
       "      <td>White</td>\n",
       "      <td>Male</td>\n",
       "      <td>0</td>\n",
       "      <td>0</td>\n",
       "      <td>50</td>\n",
       "      <td>United-States</td>\n",
       "      <td>&lt;=50K.</td>\n",
       "    </tr>\n",
       "    <tr>\n",
       "      <th>2</th>\n",
       "      <td>28</td>\n",
       "      <td>Local-gov</td>\n",
       "      <td>336951</td>\n",
       "      <td>Assoc-acdm</td>\n",
       "      <td>12</td>\n",
       "      <td>Married-civ-spouse</td>\n",
       "      <td>Protective-serv</td>\n",
       "      <td>Husband</td>\n",
       "      <td>White</td>\n",
       "      <td>Male</td>\n",
       "      <td>0</td>\n",
       "      <td>0</td>\n",
       "      <td>40</td>\n",
       "      <td>United-States</td>\n",
       "      <td>&gt;50K.</td>\n",
       "    </tr>\n",
       "    <tr>\n",
       "      <th>3</th>\n",
       "      <td>44</td>\n",
       "      <td>Private</td>\n",
       "      <td>160323</td>\n",
       "      <td>Some-college</td>\n",
       "      <td>10</td>\n",
       "      <td>Married-civ-spouse</td>\n",
       "      <td>Machine-op-inspct</td>\n",
       "      <td>Husband</td>\n",
       "      <td>Black</td>\n",
       "      <td>Male</td>\n",
       "      <td>7688</td>\n",
       "      <td>0</td>\n",
       "      <td>40</td>\n",
       "      <td>United-States</td>\n",
       "      <td>&gt;50K.</td>\n",
       "    </tr>\n",
       "    <tr>\n",
       "      <th>4</th>\n",
       "      <td>18</td>\n",
       "      <td>?</td>\n",
       "      <td>103497</td>\n",
       "      <td>Some-college</td>\n",
       "      <td>10</td>\n",
       "      <td>Never-married</td>\n",
       "      <td>?</td>\n",
       "      <td>Own-child</td>\n",
       "      <td>White</td>\n",
       "      <td>Female</td>\n",
       "      <td>0</td>\n",
       "      <td>0</td>\n",
       "      <td>30</td>\n",
       "      <td>United-States</td>\n",
       "      <td>&lt;=50K.</td>\n",
       "    </tr>\n",
       "  </tbody>\n",
       "</table>\n",
       "</div>"
      ],
      "text/plain": [
       "   age   workclass  fnlwgt      education  education_num       marital_status  \\\n",
       "0   25     Private  226802           11th              7        Never-married   \n",
       "1   38     Private   89814        HS-grad              9   Married-civ-spouse   \n",
       "2   28   Local-gov  336951     Assoc-acdm             12   Married-civ-spouse   \n",
       "3   44     Private  160323   Some-college             10   Married-civ-spouse   \n",
       "4   18           ?  103497   Some-college             10        Never-married   \n",
       "\n",
       "           occupation relationship    race      sex  capital_gain  \\\n",
       "0   Machine-op-inspct    Own-child   Black     Male             0   \n",
       "1     Farming-fishing      Husband   White     Male             0   \n",
       "2     Protective-serv      Husband   White     Male             0   \n",
       "3   Machine-op-inspct      Husband   Black     Male          7688   \n",
       "4                   ?    Own-child   White   Female             0   \n",
       "\n",
       "   capital_loss  hours_per_week  native_country wage_class  \n",
       "0             0              40   United-States     <=50K.  \n",
       "1             0              50   United-States     <=50K.  \n",
       "2             0              40   United-States      >50K.  \n",
       "3             0              40   United-States      >50K.  \n",
       "4             0              30   United-States     <=50K.  "
      ]
     },
     "execution_count": 8,
     "metadata": {},
     "output_type": "execute_result"
    }
   ],
   "source": [
    "test_set.head()"
   ]
  },
  {
   "cell_type": "markdown",
   "id": "572c6d36",
   "metadata": {},
   "source": [
    "### Exploratory data analysis"
   ]
  },
  {
   "cell_type": "code",
   "execution_count": 9,
   "id": "c9b09857",
   "metadata": {},
   "outputs": [
    {
     "data": {
      "text/plain": [
       "age               0\n",
       "workclass         0\n",
       "fnlwgt            0\n",
       "education         0\n",
       "education_num     0\n",
       "marital_status    0\n",
       "occupation        0\n",
       "relationship      0\n",
       "race              0\n",
       "sex               0\n",
       "capital_gain      0\n",
       "capital_loss      0\n",
       "hours_per_week    0\n",
       "native_country    0\n",
       "wage_class        0\n",
       "dtype: int64"
      ]
     },
     "execution_count": 9,
     "metadata": {},
     "output_type": "execute_result"
    }
   ],
   "source": [
    "train_set.isnull().sum()\n",
    "# no missing values are there"
   ]
  },
  {
   "cell_type": "code",
   "execution_count": 10,
   "id": "3b10e9da",
   "metadata": {},
   "outputs": [
    {
     "data": {
      "image/png": "[encoded data removed]",
      "text/plain": [
       "<Figure size 720x720 with 6 Axes>"
      ]
     },
     "metadata": {
      "needs_background": "light"
     },
     "output_type": "display_data"
    }
   ],
   "source": [
    "train_set.hist(figsize=(10,10))\n",
    "plt.show()"
   ]
  },
  {
   "cell_type": "code",
   "execution_count": 11,
   "id": "7072a2e2",
   "metadata": {},
   "outputs": [
    {
     "data": {
      "text/plain": [
       "age                int64\n",
       "workclass         object\n",
       "fnlwgt             int64\n",
       "education         object\n",
       "education_num      int64\n",
       "marital_status    object\n",
       "occupation        object\n",
       "relationship      object\n",
       "race              object\n",
       "sex               object\n",
       "capital_gain       int64\n",
       "capital_loss       int64\n",
       "hours_per_week     int64\n",
       "native_country    object\n",
       "wage_class        object\n",
       "dtype: object"
      ]
     },
     "execution_count": 11,
     "metadata": {},
     "output_type": "execute_result"
    }
   ],
   "source": [
    "train_set.dtypes"
   ]
  },
  {
   "cell_type": "markdown",
   "id": "f1ae17e7",
   "metadata": {},
   "source": [
    "To check uniqe values and count of them in each columns having type as object"
   ]
  },
  {
   "cell_type": "code",
   "execution_count": 12,
   "id": "9ba512e8",
   "metadata": {},
   "outputs": [
    {
     "data": {
      "text/plain": [
       "Index(['age', 'workclass', 'fnlwgt', 'education', 'education_num',\n",
       "       'marital_status', 'occupation', 'relationship', 'race', 'sex',\n",
       "       'capital_gain', 'capital_loss', 'hours_per_week', 'native_country',\n",
       "       'wage_class'],\n",
       "      dtype='object')"
      ]
     },
     "execution_count": 12,
     "metadata": {},
     "output_type": "execute_result"
    }
   ],
   "source": [
    "train_set.columns"
   ]
  },
  {
   "cell_type": "code",
   "execution_count": 13,
   "id": "01a42e98",
   "metadata": {},
   "outputs": [
    {
     "data": {
      "text/plain": [
       " Private             22696\n",
       " Self-emp-not-inc     2541\n",
       " Local-gov            2093\n",
       " ?                    1836\n",
       " State-gov            1298\n",
       " Self-emp-inc         1116\n",
       " Federal-gov           960\n",
       " Without-pay            14\n",
       " Never-worked            7\n",
       "Name: workclass, dtype: int64"
      ]
     },
     "execution_count": 13,
     "metadata": {},
     "output_type": "execute_result"
    }
   ],
   "source": [
    "train_set.workclass.value_counts()\n",
    "# #train_set.workclass.unique()       "
   ]
  },
  {
   "cell_type": "markdown",
   "id": "d9df764c",
   "metadata": {},
   "source": [
    "### we have special symbol '?', we need to handle it"
   ]
  },
  {
   "cell_type": "code",
   "execution_count": 14,
   "id": "914c4b1f",
   "metadata": {},
   "outputs": [
    {
     "name": "stdout",
     "output_type": "stream",
     "text": [
      "__________ workclass __________\n",
      "__________ education __________\n",
      "__________ marital_status __________\n",
      "__________ occupation __________\n",
      "__________ relationship __________\n",
      "__________ race __________\n",
      "__________ sex __________\n",
      "__________ native_country __________\n",
      "__________ wage_class __________\n"
     ]
    }
   ],
   "source": [
    "for feature in col_labels:\n",
    "    if train_set[feature].dtype == 'object':\n",
    "        \n",
    "        print('_'*10,feature, end=\" \",)\n",
    "        print('_'*10)"
   ]
  },
  {
   "cell_type": "code",
   "execution_count": 15,
   "id": "248fb424",
   "metadata": {},
   "outputs": [
    {
     "name": "stdout",
     "output_type": "stream",
     "text": [
      "__________ workclass __________\n",
      " Private             22696\n",
      " Self-emp-not-inc     2541\n",
      " Local-gov            2093\n",
      " ?                    1836\n",
      " State-gov            1298\n",
      " Self-emp-inc         1116\n",
      " Federal-gov           960\n",
      " Without-pay            14\n",
      " Never-worked            7\n",
      "Name: workclass, dtype: int64\n",
      "__________ education __________\n",
      " HS-grad         10501\n",
      " Some-college     7291\n",
      " Bachelors        5355\n",
      " Masters          1723\n",
      " Assoc-voc        1382\n",
      " 11th             1175\n",
      " Assoc-acdm       1067\n",
      " 10th              933\n",
      " 7th-8th           646\n",
      " Prof-school       576\n",
      " 9th               514\n",
      " 12th              433\n",
      " Doctorate         413\n",
      " 5th-6th           333\n",
      " 1st-4th           168\n",
      " Preschool          51\n",
      "Name: education, dtype: int64\n",
      "__________ marital_status __________\n",
      " Married-civ-spouse       14976\n",
      " Never-married            10683\n",
      " Divorced                  4443\n",
      " Separated                 1025\n",
      " Widowed                    993\n",
      " Married-spouse-absent      418\n",
      " Married-AF-spouse           23\n",
      "Name: marital_status, dtype: int64\n",
      "__________ occupation __________\n",
      " Prof-specialty       4140\n",
      " Craft-repair         4099\n",
      " Exec-managerial      4066\n",
      " Adm-clerical         3770\n",
      " Sales                3650\n",
      " Other-service        3295\n",
      " Machine-op-inspct    2002\n",
      " ?                    1843\n",
      " Transport-moving     1597\n",
      " Handlers-cleaners    1370\n",
      " Farming-fishing       994\n",
      " Tech-support          928\n",
      " Protective-serv       649\n",
      " Priv-house-serv       149\n",
      " Armed-Forces            9\n",
      "Name: occupation, dtype: int64\n",
      "__________ relationship __________\n",
      " Husband           13193\n",
      " Not-in-family      8305\n",
      " Own-child          5068\n",
      " Unmarried          3446\n",
      " Wife               1568\n",
      " Other-relative      981\n",
      "Name: relationship, dtype: int64\n",
      "__________ race __________\n",
      " White                 27816\n",
      " Black                  3124\n",
      " Asian-Pac-Islander     1039\n",
      " Amer-Indian-Eskimo      311\n",
      " Other                   271\n",
      "Name: race, dtype: int64\n",
      "__________ sex __________\n",
      " Male      21790\n",
      " Female    10771\n",
      "Name: sex, dtype: int64\n",
      "__________ native_country __________\n",
      " United-States                 29170\n",
      " Mexico                          643\n",
      " ?                               583\n",
      " Philippines                     198\n",
      " Germany                         137\n",
      " Canada                          121\n",
      " Puerto-Rico                     114\n",
      " El-Salvador                     106\n",
      " India                           100\n",
      " Cuba                             95\n",
      " England                          90\n",
      " Jamaica                          81\n",
      " South                            80\n",
      " China                            75\n",
      " Italy                            73\n",
      " Dominican-Republic               70\n",
      " Vietnam                          67\n",
      " Guatemala                        64\n",
      " Japan                            62\n",
      " Poland                           60\n",
      " Columbia                         59\n",
      " Taiwan                           51\n",
      " Haiti                            44\n",
      " Iran                             43\n",
      " Portugal                         37\n",
      " Nicaragua                        34\n",
      " Peru                             31\n",
      " France                           29\n",
      " Greece                           29\n",
      " Ecuador                          28\n",
      " Ireland                          24\n",
      " Hong                             20\n",
      " Cambodia                         19\n",
      " Trinadad&Tobago                  19\n",
      " Laos                             18\n",
      " Thailand                         18\n",
      " Yugoslavia                       16\n",
      " Outlying-US(Guam-USVI-etc)       14\n",
      " Honduras                         13\n",
      " Hungary                          13\n",
      " Scotland                         12\n",
      " Holand-Netherlands                1\n",
      "Name: native_country, dtype: int64\n",
      "__________ wage_class __________\n",
      " <=50K    24720\n",
      " >50K      7841\n",
      "Name: wage_class, dtype: int64\n"
     ]
    }
   ],
   "source": [
    "for feature in col_labels:\n",
    "    if train_set[feature].dtype == 'object':\n",
    "        \n",
    "        print('_'*10,feature, end=\" \",)\n",
    "        print('_'*10)\n",
    "        print(train_set[feature].value_counts())"
   ]
  },
  {
   "cell_type": "markdown",
   "id": "8f8b4773",
   "metadata": {},
   "source": [
    "### Observations: \n",
    "features like **Native_counrty, Occupation, workclass** having '?' as one value need to be handle\n",
    "\n",
    "get index of the ? in the above mentioned columns\n",
    "\n",
    "some features name containing - in the name remove or replace with underscore"
   ]
  },
  {
   "cell_type": "code",
   "execution_count": 16,
   "id": "e79158e1",
   "metadata": {},
   "outputs": [
    {
     "data": {
      "text/plain": [
       "Index(['age', 'workclass', 'fnlwgt', 'education', 'education_num',\n",
       "       'marital_status', 'occupation', 'relationship', 'race', 'sex',\n",
       "       'capital_gain', 'capital_loss', 'hours_per_week', 'native_country',\n",
       "       'wage_class'],\n",
       "      dtype='object')"
      ]
     },
     "execution_count": 16,
     "metadata": {},
     "output_type": "execute_result"
    }
   ],
   "source": [
    "train_set.columns  \n"
   ]
  },
  {
   "cell_type": "code",
   "execution_count": 17,
   "id": "8a8a3968",
   "metadata": {},
   "outputs": [],
   "source": [
    "# using regular expressoins we can removve this special symbols\n",
    "import re  \n",
    "train_set.rename(columns=lambda name: re.sub(r\"\\-\",'_',name), inplace=True)  "
   ]
  },
  {
   "cell_type": "code",
   "execution_count": 18,
   "id": "0f8c3a42",
   "metadata": {},
   "outputs": [],
   "source": [
    "filter1 = train_set[\"workclass\"]==\"?\"\n"
   ]
  },
  {
   "cell_type": "code",
   "execution_count": 19,
   "id": "d5ea7ab1",
   "metadata": {},
   "outputs": [],
   "source": [
    "index = train_set[train_set[\"native_country\"]== ' ?'].index"
   ]
  },
  {
   "cell_type": "code",
   "execution_count": 20,
   "id": "aea45162",
   "metadata": {},
   "outputs": [
    {
     "data": {
      "text/plain": [
       "583"
      ]
     },
     "execution_count": 20,
     "metadata": {},
     "output_type": "execute_result"
    }
   ],
   "source": [
    "index.value_counts().sum()  # sum of those indexes "
   ]
  },
  {
   "cell_type": "markdown",
   "id": "9821eec8",
   "metadata": {},
   "source": [
    "now we have to apply the filter for the '?' value in those above 3 columns"
   ]
  },
  {
   "cell_type": "code",
   "execution_count": 21,
   "id": "781b7c0f",
   "metadata": {},
   "outputs": [
    {
     "name": "stdout",
     "output_type": "stream",
     "text": [
      "_____ workclass _____\n",
      "Total `?` in workclass: 1836\n",
      "Total % of `?` in workclass: 5.64\n",
      "_____ occupation _____\n",
      "Total `?` in occupation: 1843\n",
      "Total % of `?` in occupation: 5.66\n",
      "_____ native_country _____\n",
      "Total `?` in native_country: 583\n",
      "Total % of `?` in native_country: 1.79\n"
     ]
    }
   ],
   "source": [
    "indexes_list = [] # will contain three index series of desired syntexes\n",
    "def filter_questionMark(l):\n",
    "    \n",
    "    for item in l:\n",
    "        print('_'*5,item, '_'*5)\n",
    "        index = train_set[train_set[item]== ' ?'].index\n",
    "        indexes_list.append(index)\n",
    "        #index.value_counts()  # to display all the indexes having value '?'\n",
    "        print(\"Total `?` in {0}: {1}\".format(item, index.value_counts().sum()))  # sum of those indexes \n",
    "        print(\"Total % of `?` in {0}: {1}\".format(item, round((index.value_counts().sum()/train_set.shape[0])*100,2)))\n",
    "        \n",
    "filter2= ['workclass','occupation', 'native_country']\n",
    "filter_questionMark(filter2)"
   ]
  },
  {
   "cell_type": "code",
   "execution_count": 22,
   "id": "06749b0e",
   "metadata": {},
   "outputs": [
    {
     "name": "stdout",
     "output_type": "stream",
     "text": [
      "Original Shape of Train Set: (32561, 15)\n",
      "Rows in Train Set: 32561\n"
     ]
    }
   ],
   "source": [
    "print(\"Original Shape of Train Set:\", train_set.shape)\n",
    "print(\"Rows in Train Set:\", train_set.shape[0])"
   ]
  },
  {
   "cell_type": "code",
   "execution_count": 23,
   "id": "a6035aee",
   "metadata": {},
   "outputs": [
    {
     "name": "stdout",
     "output_type": "stream",
     "text": [
      "\n",
      " Drowping `?` indexes from `workclass` featutre....\n",
      "Total New rows: 31978\n"
     ]
    }
   ],
   "source": [
    "print('\\n Drowping `?` indexes from `workclass` featutre....')\n",
    "train_set= train_set.drop(index)\n",
    "print(\"Total New rows:\",train_set.shape[0])"
   ]
  },
  {
   "cell_type": "code",
   "execution_count": 24,
   "id": "68d364c4",
   "metadata": {},
   "outputs": [
    {
     "name": "stdout",
     "output_type": "stream",
     "text": [
      "\n",
      " Drowping `?` indexes from `native_country` featutre....\n",
      "Total New rows: 31978\n"
     ]
    }
   ],
   "source": [
    "print('\\n Drowping `?` indexes from `native_country` featutre....')\n",
    "index1= train_set[train_set[\"native_country\"]== ' ?'].index\n",
    "train_set = train_set.drop(index1)\n",
    "print(\"Total New rows:\",train_set.shape[0])"
   ]
  },
  {
   "cell_type": "code",
   "execution_count": 25,
   "id": "77a044e9",
   "metadata": {},
   "outputs": [
    {
     "name": "stdout",
     "output_type": "stream",
     "text": [
      "\n",
      " Drowping `?` indexes from `occupation` featutre....\n",
      "Total New rows: 30162\n"
     ]
    }
   ],
   "source": [
    "print('\\n Drowping `?` indexes from `occupation` featutre....')\n",
    "index2 = train_set[train_set[\"occupation\"]== ' ?'].index\n",
    "train_set = train_set.drop(index2)\n",
    "print(\"Total New rows:\",train_set.shape[0])"
   ]
  },
  {
   "cell_type": "code",
   "execution_count": 26,
   "id": "dd81fd59",
   "metadata": {},
   "outputs": [
    {
     "name": "stdout",
     "output_type": "stream",
     "text": [
      "_____ workclass _____\n",
      "Total `?` in workclass: 0\n",
      "Total % of `?` in workclass: 0.0\n",
      "_____ occupation _____\n",
      "Total `?` in occupation: 0\n",
      "Total % of `?` in occupation: 0.0\n",
      "_____ native_country _____\n",
      "Total `?` in native_country: 0\n",
      "Total % of `?` in native_country: 0.0\n"
     ]
    }
   ],
   "source": [
    "filter_questionMark(filter2)"
   ]
  },
  {
   "cell_type": "markdown",
   "id": "71c428d5",
   "metadata": {},
   "source": [
    "**Note:** As XGBoost dont support categorical data we will have to use use one hot coding tochange all object type features to numeric field"
   ]
  },
  {
   "cell_type": "code",
   "execution_count": 27,
   "id": "5c8f8753",
   "metadata": {},
   "outputs": [],
   "source": [
    "df1 = train_set.copy()\n",
    "\n",
    "objectFeature = []\n",
    "for i in list(df1.columns):\n",
    "    if (df1[i].dtypes == 'object'):\n",
    "        objectFeature.append(i)\n",
    "        \n",
    "\n",
    "df1=pd.get_dummies(df1[objectFeature[:-1]])"
   ]
  },
  {
   "cell_type": "code",
   "execution_count": 28,
   "id": "c89ddc06",
   "metadata": {},
   "outputs": [],
   "source": [
    "intFeature = []\n",
    "for i in list(train_set.columns):\n",
    "    if (train_set[i].dtypes == 'int64'):\n",
    "        intFeature.append(i)\n",
    "\n",
    "df2 = train_set[intFeature]"
   ]
  },
  {
   "cell_type": "code",
   "execution_count": 29,
   "id": "b53a46ab",
   "metadata": {},
   "outputs": [
    {
     "data": {
      "text/plain": [
       "(30162, 98)"
      ]
     },
     "execution_count": 29,
     "metadata": {},
     "output_type": "execute_result"
    }
   ],
   "source": [
    "df1.shape\n"
   ]
  },
  {
   "cell_type": "code",
   "execution_count": 30,
   "id": "6432276f",
   "metadata": {},
   "outputs": [
    {
     "data": {
      "text/plain": [
       "(30162, 6)"
      ]
     },
     "execution_count": 30,
     "metadata": {},
     "output_type": "execute_result"
    }
   ],
   "source": [
    "df2.shape"
   ]
  },
  {
   "cell_type": "markdown",
   "id": "8dcf62ca",
   "metadata": {},
   "source": [
    "now we have to concatenate these two data frames"
   ]
  },
  {
   "cell_type": "code",
   "execution_count": 31,
   "id": "d4628e09",
   "metadata": {},
   "outputs": [],
   "source": [
    "X_train = pd.concat([df1, df2], axis=1)\n"
   ]
  },
  {
   "cell_type": "code",
   "execution_count": 32,
   "id": "0f27f292",
   "metadata": {},
   "outputs": [
    {
     "data": {
      "text/plain": [
       "(30162, 104)"
      ]
     },
     "execution_count": 32,
     "metadata": {},
     "output_type": "execute_result"
    }
   ],
   "source": [
    "X_train.shape"
   ]
  },
  {
   "cell_type": "code",
   "execution_count": 33,
   "id": "5c7116aa",
   "metadata": {},
   "outputs": [],
   "source": [
    "y=train_set[objectFeature[-1]] #last column"
   ]
  },
  {
   "cell_type": "code",
   "execution_count": 35,
   "id": "7664b269",
   "metadata": {},
   "outputs": [],
   "source": [
    "from sklearn import preprocessing\n",
    "level_encoder = preprocessing.LabelEncoder()\n",
    "\n",
    "y_train=level_encoder.fit_transform(y)"
   ]
  },
  {
   "cell_type": "code",
   "execution_count": 36,
   "id": "713ba0a0",
   "metadata": {},
   "outputs": [
    {
     "data": {
      "text/plain": [
       "array([0, 0, 0, ..., 0, 0, 1])"
      ]
     },
     "execution_count": 36,
     "metadata": {},
     "output_type": "execute_result"
    }
   ],
   "source": [
    "y_train"
   ]
  },
  {
   "cell_type": "markdown",
   "id": "88015b23",
   "metadata": {},
   "source": [
    "same process we can apply with the test data to prepare it for test input, secondly we have combined both and performed same operations and later divied again into train and test split\n",
    "\n",
    "here I am using same from the training portion to demonstrate this model"
   ]
  },
  {
   "cell_type": "code",
   "execution_count": 37,
   "id": "c8aee516",
   "metadata": {},
   "outputs": [
    {
     "name": "stdout",
     "output_type": "stream",
     "text": [
      "Requirement already satisfied: xgboost in c:\\users\\rishikesh\\anaconda3\\lib\\site-packages (1.7.3)\n",
      "Requirement already satisfied: numpy in c:\\users\\rishikesh\\anaconda3\\lib\\site-packages (from xgboost) (1.21.5)\n",
      "Requirement already satisfied: scipy in c:\\users\\rishikesh\\anaconda3\\lib\\site-packages (from xgboost) (1.7.3)\n"
     ]
    }
   ],
   "source": [
    "!pip install xgboost"
   ]
  },
  {
   "cell_type": "code",
   "execution_count": 38,
   "id": "9a03c494",
   "metadata": {},
   "outputs": [],
   "source": [
    "from xgboost.sklearn import XGBClassifier\n",
    "from sklearn.model_selection import train_test_split\n",
    "from sklearn.metrics import accuracy_score"
   ]
  },
  {
   "cell_type": "code",
   "execution_count": 39,
   "id": "fcf3a8cc",
   "metadata": {},
   "outputs": [],
   "source": [
    "# selecting best hyper parameter\n",
    "params = {\n",
    "    'objective': 'binary:logistic',\n",
    "    'max_depth': 2,\n",
    "    'learning_rate': .5,\n",
    "    'silent': True,    # would be boolean in sklearn\n",
    "    'n_estimators': 100\n",
    "}"
   ]
  },
  {
   "cell_type": "code",
   "execution_count": 40,
   "id": "5338c9ca",
   "metadata": {},
   "outputs": [],
   "source": [
    "x_train, x_test, y_t1, y_t2 =train_test_split(X_train, y_train, test_size=.25)\n"
   ]
  },
  {
   "cell_type": "code",
   "execution_count": 41,
   "id": "31633b55",
   "metadata": {},
   "outputs": [
    {
     "data": {
      "text/plain": [
       "((22621, 104), (7541, 104), (22621,), (7541,))"
      ]
     },
     "execution_count": 41,
     "metadata": {},
     "output_type": "execute_result"
    }
   ],
   "source": [
    "x_train.shape, x_test.shape, y_t1.shape, y_t2.shape\n"
   ]
  },
  {
   "cell_type": "markdown",
   "id": "f7d05746",
   "metadata": {},
   "source": [
    "we are going to build first model"
   ]
  },
  {
   "cell_type": "code",
   "execution_count": 42,
   "id": "6b2223b6",
   "metadata": {},
   "outputs": [
    {
     "name": "stdout",
     "output_type": "stream",
     "text": [
      "[23:48:04] WARNING: C:/buildkite-agent/builds/buildkite-windows-cpu-autoscaling-group-i-08de971ced8a8cdc6-1/xgboost/xgboost-ci-windows/src/learner.cc:767: \n",
      "Parameters: { \"silent\" } are not used.\n",
      "\n"
     ]
    }
   ],
   "source": [
    "xgb = XGBClassifier(**params).fit(x_train,y_t1)"
   ]
  },
  {
   "cell_type": "code",
   "execution_count": 43,
   "id": "8b64fe28",
   "metadata": {},
   "outputs": [],
   "source": [
    "y_pred= xgb.predict(x_test)"
   ]
  },
  {
   "cell_type": "code",
   "execution_count": 44,
   "id": "25c74396",
   "metadata": {},
   "outputs": [
    {
     "data": {
      "text/plain": [
       "array([0, 0, 0, ..., 1, 0, 0])"
      ]
     },
     "execution_count": 44,
     "metadata": {},
     "output_type": "execute_result"
    }
   ],
   "source": [
    "y_pred"
   ]
  },
  {
   "cell_type": "markdown",
   "id": "e51acefe",
   "metadata": {},
   "source": [
    "we are going to buld second model "
   ]
  },
  {
   "cell_type": "code",
   "execution_count": 45,
   "id": "c3e2d023",
   "metadata": {},
   "outputs": [
    {
     "name": "stdout",
     "output_type": "stream",
     "text": [
      "[23:48:05] WARNING: C:/buildkite-agent/builds/buildkite-windows-cpu-autoscaling-group-i-08de971ced8a8cdc6-1/xgboost/xgboost-ci-windows/src/learner.cc:767: \n",
      "Parameters: { \"silent\" } are not used.\n",
      "\n",
      "[0]\tvalidation_0-error:0.17705\tvalidation_0-logloss:0.50779\tvalidation_1-error:0.17199\tvalidation_1-logloss:0.50464\n",
      "[1]\tvalidation_0-error:0.16078\tvalidation_0-logloss:0.43652\tvalidation_1-error:0.15661\tvalidation_1-logloss:0.43272\n",
      "[2]\tvalidation_0-error:0.16025\tvalidation_0-logloss:0.40329\tvalidation_1-error:0.15555\tvalidation_1-logloss:0.39790\n",
      "[3]\tvalidation_0-error:0.15424\tvalidation_0-logloss:0.37984\tvalidation_1-error:0.15064\tvalidation_1-logloss:0.37467\n",
      "[4]\tvalidation_0-error:0.15326\tvalidation_0-logloss:0.36510\tvalidation_1-error:0.14812\tvalidation_1-logloss:0.35954\n",
      "[5]\tvalidation_0-error:0.15366\tvalidation_0-logloss:0.35439\tvalidation_1-error:0.14826\tvalidation_1-logloss:0.34910\n",
      "[6]\tvalidation_0-error:0.15499\tvalidation_0-logloss:0.34700\tvalidation_1-error:0.14812\tvalidation_1-logloss:0.34254\n",
      "[7]\tvalidation_0-error:0.15273\tvalidation_0-logloss:0.33940\tvalidation_1-error:0.14746\tvalidation_1-logloss:0.33466\n",
      "[8]\tvalidation_0-error:0.15101\tvalidation_0-logloss:0.33413\tvalidation_1-error:0.14587\tvalidation_1-logloss:0.32938\n",
      "[9]\tvalidation_0-error:0.15039\tvalidation_0-logloss:0.33051\tvalidation_1-error:0.14587\tvalidation_1-logloss:0.32629\n",
      "[10]\tvalidation_0-error:0.14853\tvalidation_0-logloss:0.32703\tvalidation_1-error:0.14481\tvalidation_1-logloss:0.32332\n",
      "[11]\tvalidation_0-error:0.14827\tvalidation_0-logloss:0.32430\tvalidation_1-error:0.14547\tvalidation_1-logloss:0.32130\n",
      "[12]\tvalidation_0-error:0.14809\tvalidation_0-logloss:0.32213\tvalidation_1-error:0.14494\tvalidation_1-logloss:0.31980\n",
      "[13]\tvalidation_0-error:0.14730\tvalidation_0-logloss:0.31959\tvalidation_1-error:0.14348\tvalidation_1-logloss:0.31726\n",
      "[14]\tvalidation_0-error:0.14721\tvalidation_0-logloss:0.31694\tvalidation_1-error:0.14361\tvalidation_1-logloss:0.31450\n",
      "[15]\tvalidation_0-error:0.14685\tvalidation_0-logloss:0.31523\tvalidation_1-error:0.14242\tvalidation_1-logloss:0.31292\n",
      "[16]\tvalidation_0-error:0.14522\tvalidation_0-logloss:0.31393\tvalidation_1-error:0.14229\tvalidation_1-logloss:0.31197\n",
      "[17]\tvalidation_0-error:0.14433\tvalidation_0-logloss:0.31211\tvalidation_1-error:0.14229\tvalidation_1-logloss:0.31013\n",
      "[18]\tvalidation_0-error:0.14407\tvalidation_0-logloss:0.31104\tvalidation_1-error:0.14149\tvalidation_1-logloss:0.30928\n",
      "[19]\tvalidation_0-error:0.14420\tvalidation_0-logloss:0.31005\tvalidation_1-error:0.14216\tvalidation_1-logloss:0.30871\n",
      "[20]\tvalidation_0-error:0.14376\tvalidation_0-logloss:0.30920\tvalidation_1-error:0.14176\tvalidation_1-logloss:0.30810\n",
      "[21]\tvalidation_0-error:0.14239\tvalidation_0-logloss:0.30663\tvalidation_1-error:0.14003\tvalidation_1-logloss:0.30583\n",
      "[22]\tvalidation_0-error:0.14208\tvalidation_0-logloss:0.30575\tvalidation_1-error:0.13964\tvalidation_1-logloss:0.30519\n",
      "[23]\tvalidation_0-error:0.14111\tvalidation_0-logloss:0.30486\tvalidation_1-error:0.13844\tvalidation_1-logloss:0.30426\n",
      "[24]\tvalidation_0-error:0.14049\tvalidation_0-logloss:0.30385\tvalidation_1-error:0.13659\tvalidation_1-logloss:0.30293\n",
      "[25]\tvalidation_0-error:0.13978\tvalidation_0-logloss:0.30324\tvalidation_1-error:0.13738\tvalidation_1-logloss:0.30255\n",
      "[26]\tvalidation_0-error:0.13965\tvalidation_0-logloss:0.30271\tvalidation_1-error:0.13805\tvalidation_1-logloss:0.30199\n",
      "[27]\tvalidation_0-error:0.13965\tvalidation_0-logloss:0.30205\tvalidation_1-error:0.13751\tvalidation_1-logloss:0.30110\n",
      "[28]\tvalidation_0-error:0.13907\tvalidation_0-logloss:0.30103\tvalidation_1-error:0.13738\tvalidation_1-logloss:0.30027\n",
      "[29]\tvalidation_0-error:0.13916\tvalidation_0-logloss:0.30041\tvalidation_1-error:0.13778\tvalidation_1-logloss:0.29996\n",
      "[30]\tvalidation_0-error:0.13894\tvalidation_0-logloss:0.29959\tvalidation_1-error:0.13712\tvalidation_1-logloss:0.29910\n",
      "[31]\tvalidation_0-error:0.13868\tvalidation_0-logloss:0.29895\tvalidation_1-error:0.13751\tvalidation_1-logloss:0.29895\n",
      "[32]\tvalidation_0-error:0.13859\tvalidation_0-logloss:0.29851\tvalidation_1-error:0.13738\tvalidation_1-logloss:0.29889\n",
      "[33]\tvalidation_0-error:0.13815\tvalidation_0-logloss:0.29742\tvalidation_1-error:0.13778\tvalidation_1-logloss:0.29804\n",
      "[34]\tvalidation_0-error:0.13739\tvalidation_0-logloss:0.29695\tvalidation_1-error:0.13751\tvalidation_1-logloss:0.29806\n",
      "[35]\tvalidation_0-error:0.13678\tvalidation_0-logloss:0.29652\tvalidation_1-error:0.13738\tvalidation_1-logloss:0.29808\n",
      "[36]\tvalidation_0-error:0.13625\tvalidation_0-logloss:0.29614\tvalidation_1-error:0.13619\tvalidation_1-logloss:0.29774\n",
      "[37]\tvalidation_0-error:0.13625\tvalidation_0-logloss:0.29577\tvalidation_1-error:0.13619\tvalidation_1-logloss:0.29779\n",
      "[38]\tvalidation_0-error:0.13620\tvalidation_0-logloss:0.29546\tvalidation_1-error:0.13619\tvalidation_1-logloss:0.29763\n",
      "[39]\tvalidation_0-error:0.13571\tvalidation_0-logloss:0.29415\tvalidation_1-error:0.13473\tvalidation_1-logloss:0.29665\n",
      "[40]\tvalidation_0-error:0.13408\tvalidation_0-logloss:0.29244\tvalidation_1-error:0.13460\tvalidation_1-logloss:0.29471\n",
      "[41]\tvalidation_0-error:0.13403\tvalidation_0-logloss:0.29155\tvalidation_1-error:0.13287\tvalidation_1-logloss:0.29396\n",
      "[42]\tvalidation_0-error:0.13306\tvalidation_0-logloss:0.29110\tvalidation_1-error:0.13486\tvalidation_1-logloss:0.29379\n",
      "[43]\tvalidation_0-error:0.13280\tvalidation_0-logloss:0.29084\tvalidation_1-error:0.13446\tvalidation_1-logloss:0.29387\n",
      "[44]\tvalidation_0-error:0.13253\tvalidation_0-logloss:0.29054\tvalidation_1-error:0.13460\tvalidation_1-logloss:0.29368\n",
      "[45]\tvalidation_0-error:0.13249\tvalidation_0-logloss:0.29031\tvalidation_1-error:0.13460\tvalidation_1-logloss:0.29353\n",
      "[46]\tvalidation_0-error:0.13280\tvalidation_0-logloss:0.28979\tvalidation_1-error:0.13393\tvalidation_1-logloss:0.29304\n",
      "[47]\tvalidation_0-error:0.13297\tvalidation_0-logloss:0.28950\tvalidation_1-error:0.13340\tvalidation_1-logloss:0.29276\n",
      "[48]\tvalidation_0-error:0.13284\tvalidation_0-logloss:0.28926\tvalidation_1-error:0.13234\tvalidation_1-logloss:0.29261\n",
      "[49]\tvalidation_0-error:0.13280\tvalidation_0-logloss:0.28912\tvalidation_1-error:0.13261\tvalidation_1-logloss:0.29250\n",
      "[50]\tvalidation_0-error:0.13249\tvalidation_0-logloss:0.28871\tvalidation_1-error:0.13354\tvalidation_1-logloss:0.29224\n",
      "[51]\tvalidation_0-error:0.13196\tvalidation_0-logloss:0.28718\tvalidation_1-error:0.13274\tvalidation_1-logloss:0.29132\n",
      "[52]\tvalidation_0-error:0.13169\tvalidation_0-logloss:0.28690\tvalidation_1-error:0.13287\tvalidation_1-logloss:0.29121\n",
      "[53]\tvalidation_0-error:0.13121\tvalidation_0-logloss:0.28666\tvalidation_1-error:0.13248\tvalidation_1-logloss:0.29111\n",
      "[54]\tvalidation_0-error:0.13103\tvalidation_0-logloss:0.28650\tvalidation_1-error:0.13261\tvalidation_1-logloss:0.29114\n",
      "[55]\tvalidation_0-error:0.13076\tvalidation_0-logloss:0.28634\tvalidation_1-error:0.13301\tvalidation_1-logloss:0.29117\n",
      "[56]\tvalidation_0-error:0.13081\tvalidation_0-logloss:0.28595\tvalidation_1-error:0.13248\tvalidation_1-logloss:0.29088\n",
      "[57]\tvalidation_0-error:0.13068\tvalidation_0-logloss:0.28549\tvalidation_1-error:0.13248\tvalidation_1-logloss:0.29057\n",
      "[58]\tvalidation_0-error:0.13059\tvalidation_0-logloss:0.28529\tvalidation_1-error:0.13181\tvalidation_1-logloss:0.29049\n",
      "[59]\tvalidation_0-error:0.13019\tvalidation_0-logloss:0.28500\tvalidation_1-error:0.13234\tvalidation_1-logloss:0.29039\n",
      "[60]\tvalidation_0-error:0.13014\tvalidation_0-logloss:0.28473\tvalidation_1-error:0.13261\tvalidation_1-logloss:0.29018\n",
      "[61]\tvalidation_0-error:0.12997\tvalidation_0-logloss:0.28464\tvalidation_1-error:0.13314\tvalidation_1-logloss:0.29022\n",
      "[62]\tvalidation_0-error:0.12988\tvalidation_0-logloss:0.28447\tvalidation_1-error:0.13248\tvalidation_1-logloss:0.29020\n",
      "[63]\tvalidation_0-error:0.13010\tvalidation_0-logloss:0.28420\tvalidation_1-error:0.13274\tvalidation_1-logloss:0.29012\n",
      "[64]\tvalidation_0-error:0.12997\tvalidation_0-logloss:0.28373\tvalidation_1-error:0.13301\tvalidation_1-logloss:0.29014\n",
      "[65]\tvalidation_0-error:0.12984\tvalidation_0-logloss:0.28365\tvalidation_1-error:0.13367\tvalidation_1-logloss:0.29013\n",
      "[66]\tvalidation_0-error:0.12944\tvalidation_0-logloss:0.28289\tvalidation_1-error:0.13327\tvalidation_1-logloss:0.28932\n",
      "[67]\tvalidation_0-error:0.12900\tvalidation_0-logloss:0.28203\tvalidation_1-error:0.13301\tvalidation_1-logloss:0.28900\n",
      "[68]\tvalidation_0-error:0.12900\tvalidation_0-logloss:0.28177\tvalidation_1-error:0.13327\tvalidation_1-logloss:0.28886\n"
     ]
    },
    {
     "name": "stdout",
     "output_type": "stream",
     "text": [
      "[69]\tvalidation_0-error:0.12917\tvalidation_0-logloss:0.28149\tvalidation_1-error:0.13314\tvalidation_1-logloss:0.28868\n",
      "[70]\tvalidation_0-error:0.12908\tvalidation_0-logloss:0.28140\tvalidation_1-error:0.13354\tvalidation_1-logloss:0.28865\n",
      "[71]\tvalidation_0-error:0.12882\tvalidation_0-logloss:0.28127\tvalidation_1-error:0.13380\tvalidation_1-logloss:0.28867\n",
      "[72]\tvalidation_0-error:0.12900\tvalidation_0-logloss:0.28119\tvalidation_1-error:0.13367\tvalidation_1-logloss:0.28864\n",
      "[73]\tvalidation_0-error:0.12886\tvalidation_0-logloss:0.28111\tvalidation_1-error:0.13367\tvalidation_1-logloss:0.28853\n",
      "[74]\tvalidation_0-error:0.12882\tvalidation_0-logloss:0.28102\tvalidation_1-error:0.13380\tvalidation_1-logloss:0.28858\n",
      "[75]\tvalidation_0-error:0.12891\tvalidation_0-logloss:0.28087\tvalidation_1-error:0.13340\tvalidation_1-logloss:0.28867\n",
      "[76]\tvalidation_0-error:0.12886\tvalidation_0-logloss:0.28080\tvalidation_1-error:0.13340\tvalidation_1-logloss:0.28873\n",
      "[77]\tvalidation_0-error:0.12873\tvalidation_0-logloss:0.28043\tvalidation_1-error:0.13327\tvalidation_1-logloss:0.28869\n",
      "[78]\tvalidation_0-error:0.12842\tvalidation_0-logloss:0.28005\tvalidation_1-error:0.13261\tvalidation_1-logloss:0.28860\n",
      "[79]\tvalidation_0-error:0.12855\tvalidation_0-logloss:0.27977\tvalidation_1-error:0.13248\tvalidation_1-logloss:0.28858\n",
      "[80]\tvalidation_0-error:0.12851\tvalidation_0-logloss:0.27963\tvalidation_1-error:0.13248\tvalidation_1-logloss:0.28852\n",
      "[81]\tvalidation_0-error:0.12833\tvalidation_0-logloss:0.27950\tvalidation_1-error:0.13314\tvalidation_1-logloss:0.28844\n",
      "[82]\tvalidation_0-error:0.12838\tvalidation_0-logloss:0.27944\tvalidation_1-error:0.13314\tvalidation_1-logloss:0.28847\n",
      "[83]\tvalidation_0-error:0.12833\tvalidation_0-logloss:0.27933\tvalidation_1-error:0.13327\tvalidation_1-logloss:0.28871\n",
      "[84]\tvalidation_0-error:0.12829\tvalidation_0-logloss:0.27905\tvalidation_1-error:0.13314\tvalidation_1-logloss:0.28872\n",
      "[85]\tvalidation_0-error:0.12807\tvalidation_0-logloss:0.27865\tvalidation_1-error:0.13314\tvalidation_1-logloss:0.28840\n",
      "[86]\tvalidation_0-error:0.12762\tvalidation_0-logloss:0.27804\tvalidation_1-error:0.13314\tvalidation_1-logloss:0.28815\n",
      "[87]\tvalidation_0-error:0.12762\tvalidation_0-logloss:0.27798\tvalidation_1-error:0.13314\tvalidation_1-logloss:0.28818\n",
      "[88]\tvalidation_0-error:0.12771\tvalidation_0-logloss:0.27787\tvalidation_1-error:0.13287\tvalidation_1-logloss:0.28819\n",
      "[89]\tvalidation_0-error:0.12692\tvalidation_0-logloss:0.27761\tvalidation_1-error:0.13248\tvalidation_1-logloss:0.28848\n",
      "[90]\tvalidation_0-error:0.12701\tvalidation_0-logloss:0.27732\tvalidation_1-error:0.13234\tvalidation_1-logloss:0.28851\n",
      "[91]\tvalidation_0-error:0.12687\tvalidation_0-logloss:0.27700\tvalidation_1-error:0.13261\tvalidation_1-logloss:0.28882\n",
      "[92]\tvalidation_0-error:0.12687\tvalidation_0-logloss:0.27695\tvalidation_1-error:0.13274\tvalidation_1-logloss:0.28873\n",
      "[93]\tvalidation_0-error:0.12661\tvalidation_0-logloss:0.27675\tvalidation_1-error:0.13314\tvalidation_1-logloss:0.28880\n",
      "[94]\tvalidation_0-error:0.12639\tvalidation_0-logloss:0.27660\tvalidation_1-error:0.13274\tvalidation_1-logloss:0.28894\n",
      "[95]\tvalidation_0-error:0.12625\tvalidation_0-logloss:0.27653\tvalidation_1-error:0.13301\tvalidation_1-logloss:0.28900\n",
      "[96]\tvalidation_0-error:0.12594\tvalidation_0-logloss:0.27599\tvalidation_1-error:0.13287\tvalidation_1-logloss:0.28881\n",
      "[97]\tvalidation_0-error:0.12586\tvalidation_0-logloss:0.27583\tvalidation_1-error:0.13248\tvalidation_1-logloss:0.28859\n",
      "[98]\tvalidation_0-error:0.12586\tvalidation_0-logloss:0.27560\tvalidation_1-error:0.13274\tvalidation_1-logloss:0.28846\n",
      "[99]\tvalidation_0-error:0.12586\tvalidation_0-logloss:0.27552\tvalidation_1-error:0.13274\tvalidation_1-logloss:0.28861\n"
     ]
    }
   ],
   "source": [
    "eval_set = [(x_train,y_t1), (x_test, y_t2)]\n",
    "xgb1 = XGBClassifier(**params).fit(x_train,y_t1,\n",
    "                                   early_stopping_rounds=15, \n",
    "                                   eval_metric=[\"error\", \"logloss\"], \n",
    "                                   eval_set=eval_set,\n",
    "                                   verbose=True)"
   ]
  },
  {
   "cell_type": "markdown",
   "id": "70ca1b74",
   "metadata": {},
   "source": [
    "we have used some parameters. \n",
    "\n",
    "**n_estimators** — the number of runs XGBoost will try to learn\n",
    "\n",
    "**learning_rate** — learning speed\n",
    "\n",
    "**early_stopping_rounds** — overfitting prevention, stop early if no improvement in learning"
   ]
  },
  {
   "cell_type": "code",
   "execution_count": 46,
   "id": "c1ac8b4f",
   "metadata": {},
   "outputs": [],
   "source": [
    "y_pred1=xgb1.predict(x_test)\n"
   ]
  },
  {
   "cell_type": "code",
   "execution_count": 47,
   "id": "ac5f03f0",
   "metadata": {},
   "outputs": [
    {
     "data": {
      "text/plain": [
       "0.8668611589974804"
      ]
     },
     "execution_count": 47,
     "metadata": {},
     "output_type": "execute_result"
    }
   ],
   "source": [
    "accuracy_score(y_t2, y_pred1)\n"
   ]
  },
  {
   "cell_type": "code",
   "execution_count": 48,
   "id": "0c187529",
   "metadata": {},
   "outputs": [
    {
     "data": {
      "image/png": "[encoded data removed]",
      "text/plain": [
       "<Figure size 432x288 with 1 Axes>"
      ]
     },
     "metadata": {
      "needs_background": "light"
     },
     "output_type": "display_data"
    },
    {
     "data": {
      "image/png": "[encoded data removed]",
      "text/plain": [
       "<Figure size 432x288 with 1 Axes>"
      ]
     },
     "metadata": {
      "needs_background": "light"
     },
     "output_type": "display_data"
    }
   ],
   "source": [
    "results = xgb1.evals_result()\n",
    "epochs = len(results['validation_0']['error'])\n",
    "x = range(0, epochs)\n",
    "# plot log loss\n",
    "fig, ax = plt.subplots()\n",
    "ax.plot(x, results['validation_0']['logloss'], label='Train')\n",
    "ax.plot(x, results['validation_1']['logloss'], label='Test')\n",
    "ax.legend()\n",
    "plt.ylabel('Log Loss')\n",
    "plt.xlabel('Epochs')\n",
    "plt.title('XGBoost Log Loss')\n",
    "plt.show()\n",
    "# plot classification error\n",
    "fig, ax = plt.subplots()\n",
    "ax.plot(x, results['validation_0']['error'], label='Train')\n",
    "ax.plot(x, results['validation_1']['error'], label='Test')\n",
    "ax.legend()\n",
    "plt.ylabel('Classification Error')\n",
    "plt.xlabel('Epochs')\n",
    "plt.title('XGBoost Classification Error')\n",
    "plt.show()"
   ]
  },
  {
   "cell_type": "markdown",
   "id": "c3988f19",
   "metadata": {},
   "source": [
    "we are going to build model no 3"
   ]
  },
  {
   "cell_type": "code",
   "execution_count": 49,
   "id": "eef9b967",
   "metadata": {},
   "outputs": [],
   "source": [
    "# hyper parameter tuning\n",
    "params = {\n",
    "    'objective': 'binary:logistic',\n",
    "    'max_depth': 20,\n",
    "    'learning_rate': .01,\n",
    "    'silent': True,    # would be boolean in sklearn\n",
    "    'n_estimators': 200\n",
    "}"
   ]
  },
  {
   "cell_type": "code",
   "execution_count": 50,
   "id": "9f9bbc45",
   "metadata": {},
   "outputs": [
    {
     "name": "stdout",
     "output_type": "stream",
     "text": [
      "[23:48:07] WARNING: C:/buildkite-agent/builds/buildkite-windows-cpu-autoscaling-group-i-08de971ced8a8cdc6-1/xgboost/xgboost-ci-windows/src/learner.cc:767: \n",
      "Parameters: { \"silent\" } are not used.\n",
      "\n",
      "[0]\tvalidation_0-error:0.09522\tvalidation_0-logloss:0.68633\tvalidation_1-error:0.17160\tvalidation_1-logloss:0.68718\n",
      "[1]\tvalidation_0-error:0.09381\tvalidation_0-logloss:0.67968\tvalidation_1-error:0.17213\tvalidation_1-logloss:0.68132\n",
      "[2]\tvalidation_0-error:0.09376\tvalidation_0-logloss:0.67318\tvalidation_1-error:0.16894\tvalidation_1-logloss:0.67557\n",
      "[3]\tvalidation_0-error:0.09244\tvalidation_0-logloss:0.66677\tvalidation_1-error:0.16709\tvalidation_1-logloss:0.66994\n",
      "[4]\tvalidation_0-error:0.09230\tvalidation_0-logloss:0.66049\tvalidation_1-error:0.16603\tvalidation_1-logloss:0.66442\n",
      "[5]\tvalidation_0-error:0.09213\tvalidation_0-logloss:0.65434\tvalidation_1-error:0.16483\tvalidation_1-logloss:0.65899\n",
      "[6]\tvalidation_0-error:0.09217\tvalidation_0-logloss:0.64827\tvalidation_1-error:0.16404\tvalidation_1-logloss:0.65367\n",
      "[7]\tvalidation_0-error:0.09239\tvalidation_0-logloss:0.64233\tvalidation_1-error:0.16496\tvalidation_1-logloss:0.64848\n",
      "[8]\tvalidation_0-error:0.09239\tvalidation_0-logloss:0.63652\tvalidation_1-error:0.16470\tvalidation_1-logloss:0.64334\n",
      "[9]\tvalidation_0-error:0.09230\tvalidation_0-logloss:0.63078\tvalidation_1-error:0.16284\tvalidation_1-logloss:0.63832\n",
      "[10]\tvalidation_0-error:0.09182\tvalidation_0-logloss:0.62516\tvalidation_1-error:0.16271\tvalidation_1-logloss:0.63338\n",
      "[11]\tvalidation_0-error:0.09160\tvalidation_0-logloss:0.61965\tvalidation_1-error:0.16245\tvalidation_1-logloss:0.62854\n",
      "[12]\tvalidation_0-error:0.09076\tvalidation_0-logloss:0.61422\tvalidation_1-error:0.16138\tvalidation_1-logloss:0.62378\n",
      "[13]\tvalidation_0-error:0.09014\tvalidation_0-logloss:0.60885\tvalidation_1-error:0.16059\tvalidation_1-logloss:0.61913\n",
      "[14]\tvalidation_0-error:0.09084\tvalidation_0-logloss:0.60360\tvalidation_1-error:0.15926\tvalidation_1-logloss:0.61455\n",
      "[15]\tvalidation_0-error:0.08983\tvalidation_0-logloss:0.59841\tvalidation_1-error:0.15688\tvalidation_1-logloss:0.61010\n",
      "[16]\tvalidation_0-error:0.08965\tvalidation_0-logloss:0.59332\tvalidation_1-error:0.15794\tvalidation_1-logloss:0.60570\n",
      "[17]\tvalidation_0-error:0.09062\tvalidation_0-logloss:0.58833\tvalidation_1-error:0.15727\tvalidation_1-logloss:0.60137\n",
      "[18]\tvalidation_0-error:0.08965\tvalidation_0-logloss:0.58340\tvalidation_1-error:0.15701\tvalidation_1-logloss:0.59713\n",
      "[19]\tvalidation_0-error:0.08908\tvalidation_0-logloss:0.57856\tvalidation_1-error:0.15674\tvalidation_1-logloss:0.59299\n",
      "[20]\tvalidation_0-error:0.08934\tvalidation_0-logloss:0.57381\tvalidation_1-error:0.15714\tvalidation_1-logloss:0.58889\n",
      "[21]\tvalidation_0-error:0.08908\tvalidation_0-logloss:0.56913\tvalidation_1-error:0.15688\tvalidation_1-logloss:0.58484\n",
      "[22]\tvalidation_0-error:0.08930\tvalidation_0-logloss:0.56451\tvalidation_1-error:0.15648\tvalidation_1-logloss:0.58092\n",
      "[23]\tvalidation_0-error:0.08828\tvalidation_0-logloss:0.55996\tvalidation_1-error:0.15661\tvalidation_1-logloss:0.57704\n",
      "[24]\tvalidation_0-error:0.08797\tvalidation_0-logloss:0.55549\tvalidation_1-error:0.15741\tvalidation_1-logloss:0.57317\n",
      "[25]\tvalidation_0-error:0.08802\tvalidation_0-logloss:0.55111\tvalidation_1-error:0.15661\tvalidation_1-logloss:0.56939\n",
      "[26]\tvalidation_0-error:0.08766\tvalidation_0-logloss:0.54679\tvalidation_1-error:0.15661\tvalidation_1-logloss:0.56569\n",
      "[27]\tvalidation_0-error:0.08753\tvalidation_0-logloss:0.54253\tvalidation_1-error:0.15595\tvalidation_1-logloss:0.56205\n",
      "[28]\tvalidation_0-error:0.08731\tvalidation_0-logloss:0.53835\tvalidation_1-error:0.15595\tvalidation_1-logloss:0.55841\n",
      "[29]\tvalidation_0-error:0.08700\tvalidation_0-logloss:0.53421\tvalidation_1-error:0.15635\tvalidation_1-logloss:0.55486\n",
      "[30]\tvalidation_0-error:0.08669\tvalidation_0-logloss:0.53014\tvalidation_1-error:0.15741\tvalidation_1-logloss:0.55141\n",
      "[31]\tvalidation_0-error:0.08620\tvalidation_0-logloss:0.52613\tvalidation_1-error:0.15674\tvalidation_1-logloss:0.54799\n",
      "[32]\tvalidation_0-error:0.08625\tvalidation_0-logloss:0.52218\tvalidation_1-error:0.15674\tvalidation_1-logloss:0.54461\n",
      "[33]\tvalidation_0-error:0.08611\tvalidation_0-logloss:0.51826\tvalidation_1-error:0.15621\tvalidation_1-logloss:0.54125\n",
      "[34]\tvalidation_0-error:0.08563\tvalidation_0-logloss:0.51439\tvalidation_1-error:0.15608\tvalidation_1-logloss:0.53801\n",
      "[35]\tvalidation_0-error:0.08505\tvalidation_0-logloss:0.51061\tvalidation_1-error:0.15436\tvalidation_1-logloss:0.53479\n",
      "[36]\tvalidation_0-error:0.08457\tvalidation_0-logloss:0.50687\tvalidation_1-error:0.15449\tvalidation_1-logloss:0.53159\n",
      "[37]\tvalidation_0-error:0.08439\tvalidation_0-logloss:0.50320\tvalidation_1-error:0.15356\tvalidation_1-logloss:0.52846\n",
      "[38]\tvalidation_0-error:0.08408\tvalidation_0-logloss:0.49957\tvalidation_1-error:0.15316\tvalidation_1-logloss:0.52540\n",
      "[39]\tvalidation_0-error:0.08382\tvalidation_0-logloss:0.49601\tvalidation_1-error:0.15237\tvalidation_1-logloss:0.52237\n",
      "[40]\tvalidation_0-error:0.08342\tvalidation_0-logloss:0.49251\tvalidation_1-error:0.15210\tvalidation_1-logloss:0.51939\n",
      "[41]\tvalidation_0-error:0.08311\tvalidation_0-logloss:0.48903\tvalidation_1-error:0.15223\tvalidation_1-logloss:0.51647\n",
      "[42]\tvalidation_0-error:0.08289\tvalidation_0-logloss:0.48560\tvalidation_1-error:0.15184\tvalidation_1-logloss:0.51358\n",
      "[43]\tvalidation_0-error:0.08236\tvalidation_0-logloss:0.48222\tvalidation_1-error:0.15237\tvalidation_1-logloss:0.51072\n",
      "[44]\tvalidation_0-error:0.08258\tvalidation_0-logloss:0.47891\tvalidation_1-error:0.15197\tvalidation_1-logloss:0.50793\n",
      "[45]\tvalidation_0-error:0.08262\tvalidation_0-logloss:0.47565\tvalidation_1-error:0.15144\tvalidation_1-logloss:0.50520\n",
      "[46]\tvalidation_0-error:0.08236\tvalidation_0-logloss:0.47239\tvalidation_1-error:0.15197\tvalidation_1-logloss:0.50251\n",
      "[47]\tvalidation_0-error:0.08196\tvalidation_0-logloss:0.46919\tvalidation_1-error:0.15157\tvalidation_1-logloss:0.49984\n",
      "[48]\tvalidation_0-error:0.08165\tvalidation_0-logloss:0.46599\tvalidation_1-error:0.15117\tvalidation_1-logloss:0.49722\n",
      "[49]\tvalidation_0-error:0.08187\tvalidation_0-logloss:0.46290\tvalidation_1-error:0.15104\tvalidation_1-logloss:0.49466\n",
      "[50]\tvalidation_0-error:0.08165\tvalidation_0-logloss:0.45982\tvalidation_1-error:0.15131\tvalidation_1-logloss:0.49213\n",
      "[51]\tvalidation_0-error:0.08121\tvalidation_0-logloss:0.45678\tvalidation_1-error:0.15144\tvalidation_1-logloss:0.48967\n",
      "[52]\tvalidation_0-error:0.08085\tvalidation_0-logloss:0.45376\tvalidation_1-error:0.15117\tvalidation_1-logloss:0.48725\n",
      "[53]\tvalidation_0-error:0.08072\tvalidation_0-logloss:0.45075\tvalidation_1-error:0.15197\tvalidation_1-logloss:0.48485\n",
      "[54]\tvalidation_0-error:0.08024\tvalidation_0-logloss:0.44783\tvalidation_1-error:0.15157\tvalidation_1-logloss:0.48246\n",
      "[55]\tvalidation_0-error:0.08028\tvalidation_0-logloss:0.44491\tvalidation_1-error:0.15051\tvalidation_1-logloss:0.48010\n",
      "[56]\tvalidation_0-error:0.07984\tvalidation_0-logloss:0.44206\tvalidation_1-error:0.15091\tvalidation_1-logloss:0.47776\n",
      "[57]\tvalidation_0-error:0.07944\tvalidation_0-logloss:0.43923\tvalidation_1-error:0.15064\tvalidation_1-logloss:0.47552\n",
      "[58]\tvalidation_0-error:0.07935\tvalidation_0-logloss:0.43642\tvalidation_1-error:0.15051\tvalidation_1-logloss:0.47324\n",
      "[59]\tvalidation_0-error:0.07935\tvalidation_0-logloss:0.43366\tvalidation_1-error:0.15078\tvalidation_1-logloss:0.47105\n",
      "[60]\tvalidation_0-error:0.07922\tvalidation_0-logloss:0.43094\tvalidation_1-error:0.15051\tvalidation_1-logloss:0.46884\n",
      "[61]\tvalidation_0-error:0.07895\tvalidation_0-logloss:0.42824\tvalidation_1-error:0.15011\tvalidation_1-logloss:0.46672\n",
      "[62]\tvalidation_0-error:0.07873\tvalidation_0-logloss:0.42558\tvalidation_1-error:0.15091\tvalidation_1-logloss:0.46463\n",
      "[63]\tvalidation_0-error:0.07851\tvalidation_0-logloss:0.42293\tvalidation_1-error:0.15064\tvalidation_1-logloss:0.46254\n",
      "[64]\tvalidation_0-error:0.07847\tvalidation_0-logloss:0.42033\tvalidation_1-error:0.15104\tvalidation_1-logloss:0.46052\n",
      "[65]\tvalidation_0-error:0.07886\tvalidation_0-logloss:0.41775\tvalidation_1-error:0.15157\tvalidation_1-logloss:0.45854\n",
      "[66]\tvalidation_0-error:0.07851\tvalidation_0-logloss:0.41521\tvalidation_1-error:0.15117\tvalidation_1-logloss:0.45654\n",
      "[67]\tvalidation_0-error:0.07856\tvalidation_0-logloss:0.41270\tvalidation_1-error:0.15131\tvalidation_1-logloss:0.45461\n",
      "[68]\tvalidation_0-error:0.07851\tvalidation_0-logloss:0.41025\tvalidation_1-error:0.15197\tvalidation_1-logloss:0.45273\n"
     ]
    },
    {
     "name": "stdout",
     "output_type": "stream",
     "text": [
      "[69]\tvalidation_0-error:0.07825\tvalidation_0-logloss:0.40777\tvalidation_1-error:0.15210\tvalidation_1-logloss:0.45085\n",
      "[70]\tvalidation_0-error:0.07820\tvalidation_0-logloss:0.40535\tvalidation_1-error:0.15210\tvalidation_1-logloss:0.44905\n",
      "[71]\tvalidation_0-error:0.07772\tvalidation_0-logloss:0.40296\tvalidation_1-error:0.15144\tvalidation_1-logloss:0.44722\n",
      "[72]\tvalidation_0-error:0.07767\tvalidation_0-logloss:0.40061\tvalidation_1-error:0.15170\tvalidation_1-logloss:0.44543\n",
      "[73]\tvalidation_0-error:0.07763\tvalidation_0-logloss:0.39830\tvalidation_1-error:0.15157\tvalidation_1-logloss:0.44362\n",
      "[74]\tvalidation_0-error:0.07758\tvalidation_0-logloss:0.39603\tvalidation_1-error:0.15157\tvalidation_1-logloss:0.44186\n",
      "[75]\tvalidation_0-error:0.07749\tvalidation_0-logloss:0.39379\tvalidation_1-error:0.15131\tvalidation_1-logloss:0.44014\n",
      "[76]\tvalidation_0-error:0.07741\tvalidation_0-logloss:0.39157\tvalidation_1-error:0.15170\tvalidation_1-logloss:0.43842\n",
      "[77]\tvalidation_0-error:0.07736\tvalidation_0-logloss:0.38935\tvalidation_1-error:0.15091\tvalidation_1-logloss:0.43672\n",
      "[78]\tvalidation_0-error:0.07736\tvalidation_0-logloss:0.38720\tvalidation_1-error:0.15117\tvalidation_1-logloss:0.43507\n",
      "[79]\tvalidation_0-error:0.07718\tvalidation_0-logloss:0.38505\tvalidation_1-error:0.15157\tvalidation_1-logloss:0.43341\n",
      "[80]\tvalidation_0-error:0.07710\tvalidation_0-logloss:0.38293\tvalidation_1-error:0.15104\tvalidation_1-logloss:0.43180\n",
      "[81]\tvalidation_0-error:0.07714\tvalidation_0-logloss:0.38084\tvalidation_1-error:0.15091\tvalidation_1-logloss:0.43021\n",
      "[82]\tvalidation_0-error:0.07679\tvalidation_0-logloss:0.37875\tvalidation_1-error:0.15091\tvalidation_1-logloss:0.42860\n",
      "[83]\tvalidation_0-error:0.07643\tvalidation_0-logloss:0.37670\tvalidation_1-error:0.15144\tvalidation_1-logloss:0.42706\n",
      "[84]\tvalidation_0-error:0.07621\tvalidation_0-logloss:0.37466\tvalidation_1-error:0.15117\tvalidation_1-logloss:0.42552\n",
      "[85]\tvalidation_0-error:0.07604\tvalidation_0-logloss:0.37265\tvalidation_1-error:0.15104\tvalidation_1-logloss:0.42400\n",
      "[86]\tvalidation_0-error:0.07581\tvalidation_0-logloss:0.37064\tvalidation_1-error:0.15104\tvalidation_1-logloss:0.42246\n",
      "[87]\tvalidation_0-error:0.07586\tvalidation_0-logloss:0.36867\tvalidation_1-error:0.15091\tvalidation_1-logloss:0.42098\n",
      "[88]\tvalidation_0-error:0.07577\tvalidation_0-logloss:0.36672\tvalidation_1-error:0.15091\tvalidation_1-logloss:0.41949\n",
      "[89]\tvalidation_0-error:0.07546\tvalidation_0-logloss:0.36480\tvalidation_1-error:0.15104\tvalidation_1-logloss:0.41803\n",
      "[90]\tvalidation_0-error:0.07546\tvalidation_0-logloss:0.36288\tvalidation_1-error:0.15078\tvalidation_1-logloss:0.41658\n",
      "[91]\tvalidation_0-error:0.07520\tvalidation_0-logloss:0.36100\tvalidation_1-error:0.15131\tvalidation_1-logloss:0.41512\n",
      "[92]\tvalidation_0-error:0.07524\tvalidation_0-logloss:0.35913\tvalidation_1-error:0.15131\tvalidation_1-logloss:0.41371\n",
      "[93]\tvalidation_0-error:0.07484\tvalidation_0-logloss:0.35724\tvalidation_1-error:0.15117\tvalidation_1-logloss:0.41236\n",
      "[94]\tvalidation_0-error:0.07475\tvalidation_0-logloss:0.35541\tvalidation_1-error:0.15131\tvalidation_1-logloss:0.41101\n",
      "[95]\tvalidation_0-error:0.07462\tvalidation_0-logloss:0.35356\tvalidation_1-error:0.15144\tvalidation_1-logloss:0.40967\n",
      "[96]\tvalidation_0-error:0.07453\tvalidation_0-logloss:0.35178\tvalidation_1-error:0.15144\tvalidation_1-logloss:0.40835\n",
      "[97]\tvalidation_0-error:0.07444\tvalidation_0-logloss:0.35002\tvalidation_1-error:0.15157\tvalidation_1-logloss:0.40704\n",
      "[98]\tvalidation_0-error:0.07418\tvalidation_0-logloss:0.34828\tvalidation_1-error:0.15144\tvalidation_1-logloss:0.40574\n",
      "[99]\tvalidation_0-error:0.07418\tvalidation_0-logloss:0.34655\tvalidation_1-error:0.15131\tvalidation_1-logloss:0.40445\n",
      "[100]\tvalidation_0-error:0.07383\tvalidation_0-logloss:0.34479\tvalidation_1-error:0.15104\tvalidation_1-logloss:0.40320\n",
      "[101]\tvalidation_0-error:0.07387\tvalidation_0-logloss:0.34311\tvalidation_1-error:0.15170\tvalidation_1-logloss:0.40193\n",
      "[102]\tvalidation_0-error:0.07378\tvalidation_0-logloss:0.34143\tvalidation_1-error:0.15170\tvalidation_1-logloss:0.40068\n",
      "[103]\tvalidation_0-error:0.07365\tvalidation_0-logloss:0.33977\tvalidation_1-error:0.15144\tvalidation_1-logloss:0.39945\n",
      "[104]\tvalidation_0-error:0.07365\tvalidation_0-logloss:0.33813\tvalidation_1-error:0.15157\tvalidation_1-logloss:0.39826\n",
      "[105]\tvalidation_0-error:0.07316\tvalidation_0-logloss:0.33646\tvalidation_1-error:0.15117\tvalidation_1-logloss:0.39709\n",
      "[106]\tvalidation_0-error:0.07272\tvalidation_0-logloss:0.33480\tvalidation_1-error:0.15131\tvalidation_1-logloss:0.39592\n",
      "[107]\tvalidation_0-error:0.07290\tvalidation_0-logloss:0.33322\tvalidation_1-error:0.15117\tvalidation_1-logloss:0.39478\n",
      "[108]\tvalidation_0-error:0.07276\tvalidation_0-logloss:0.33166\tvalidation_1-error:0.15144\tvalidation_1-logloss:0.39364\n",
      "[109]\tvalidation_0-error:0.07263\tvalidation_0-logloss:0.33010\tvalidation_1-error:0.15157\tvalidation_1-logloss:0.39252\n",
      "[110]\tvalidation_0-error:0.07250\tvalidation_0-logloss:0.32851\tvalidation_1-error:0.15210\tvalidation_1-logloss:0.39143\n",
      "[111]\tvalidation_0-error:0.07232\tvalidation_0-logloss:0.32699\tvalidation_1-error:0.15184\tvalidation_1-logloss:0.39036\n",
      "[112]\tvalidation_0-error:0.07228\tvalidation_0-logloss:0.32548\tvalidation_1-error:0.15170\tvalidation_1-logloss:0.38929\n",
      "[113]\tvalidation_0-error:0.07188\tvalidation_0-logloss:0.32395\tvalidation_1-error:0.15170\tvalidation_1-logloss:0.38826\n",
      "[114]\tvalidation_0-error:0.07170\tvalidation_0-logloss:0.32238\tvalidation_1-error:0.15197\tvalidation_1-logloss:0.38720\n",
      "[115]\tvalidation_0-error:0.07179\tvalidation_0-logloss:0.32090\tvalidation_1-error:0.15184\tvalidation_1-logloss:0.38619\n",
      "[116]\tvalidation_0-error:0.07161\tvalidation_0-logloss:0.31945\tvalidation_1-error:0.15184\tvalidation_1-logloss:0.38516\n",
      "[117]\tvalidation_0-error:0.07166\tvalidation_0-logloss:0.31802\tvalidation_1-error:0.15197\tvalidation_1-logloss:0.38414\n",
      "[118]\tvalidation_0-error:0.07135\tvalidation_0-logloss:0.31654\tvalidation_1-error:0.15157\tvalidation_1-logloss:0.38315\n",
      "[119]\tvalidation_0-error:0.07126\tvalidation_0-logloss:0.31515\tvalidation_1-error:0.15210\tvalidation_1-logloss:0.38217\n",
      "[120]\tvalidation_0-error:0.07108\tvalidation_0-logloss:0.31369\tvalidation_1-error:0.15144\tvalidation_1-logloss:0.38118\n",
      "[121]\tvalidation_0-error:0.07122\tvalidation_0-logloss:0.31231\tvalidation_1-error:0.15157\tvalidation_1-logloss:0.38023\n",
      "[122]\tvalidation_0-error:0.07086\tvalidation_0-logloss:0.31090\tvalidation_1-error:0.15117\tvalidation_1-logloss:0.37930\n",
      "[123]\tvalidation_0-error:0.07055\tvalidation_0-logloss:0.30950\tvalidation_1-error:0.15117\tvalidation_1-logloss:0.37835\n",
      "[124]\tvalidation_0-error:0.07060\tvalidation_0-logloss:0.30818\tvalidation_1-error:0.15157\tvalidation_1-logloss:0.37744\n",
      "[125]\tvalidation_0-error:0.07055\tvalidation_0-logloss:0.30686\tvalidation_1-error:0.15104\tvalidation_1-logloss:0.37649\n",
      "[126]\tvalidation_0-error:0.07024\tvalidation_0-logloss:0.30557\tvalidation_1-error:0.15117\tvalidation_1-logloss:0.37561\n",
      "[127]\tvalidation_0-error:0.06985\tvalidation_0-logloss:0.30427\tvalidation_1-error:0.15091\tvalidation_1-logloss:0.37471\n",
      "[128]\tvalidation_0-error:0.06976\tvalidation_0-logloss:0.30292\tvalidation_1-error:0.15144\tvalidation_1-logloss:0.37382\n",
      "[129]\tvalidation_0-error:0.06963\tvalidation_0-logloss:0.30165\tvalidation_1-error:0.15144\tvalidation_1-logloss:0.37296\n",
      "[130]\tvalidation_0-error:0.06976\tvalidation_0-logloss:0.30038\tvalidation_1-error:0.15078\tvalidation_1-logloss:0.37210\n",
      "[131]\tvalidation_0-error:0.06963\tvalidation_0-logloss:0.29915\tvalidation_1-error:0.15064\tvalidation_1-logloss:0.37128\n",
      "[132]\tvalidation_0-error:0.06945\tvalidation_0-logloss:0.29790\tvalidation_1-error:0.15038\tvalidation_1-logloss:0.37044\n",
      "[133]\tvalidation_0-error:0.06940\tvalidation_0-logloss:0.29671\tvalidation_1-error:0.14985\tvalidation_1-logloss:0.36962\n",
      "[134]\tvalidation_0-error:0.06945\tvalidation_0-logloss:0.29549\tvalidation_1-error:0.14998\tvalidation_1-logloss:0.36883\n",
      "[135]\tvalidation_0-error:0.06910\tvalidation_0-logloss:0.29420\tvalidation_1-error:0.14998\tvalidation_1-logloss:0.36807\n",
      "[136]\tvalidation_0-error:0.06918\tvalidation_0-logloss:0.29301\tvalidation_1-error:0.14985\tvalidation_1-logloss:0.36730\n",
      "[137]\tvalidation_0-error:0.06887\tvalidation_0-logloss:0.29174\tvalidation_1-error:0.14985\tvalidation_1-logloss:0.36654\n",
      "[138]\tvalidation_0-error:0.06887\tvalidation_0-logloss:0.29050\tvalidation_1-error:0.14998\tvalidation_1-logloss:0.36580\n"
     ]
    },
    {
     "name": "stdout",
     "output_type": "stream",
     "text": [
      "[139]\tvalidation_0-error:0.06892\tvalidation_0-logloss:0.28934\tvalidation_1-error:0.14971\tvalidation_1-logloss:0.36506\n",
      "[140]\tvalidation_0-error:0.06883\tvalidation_0-logloss:0.28821\tvalidation_1-error:0.14985\tvalidation_1-logloss:0.36432\n",
      "[141]\tvalidation_0-error:0.06870\tvalidation_0-logloss:0.28702\tvalidation_1-error:0.14998\tvalidation_1-logloss:0.36356\n",
      "[142]\tvalidation_0-error:0.06879\tvalidation_0-logloss:0.28588\tvalidation_1-error:0.14971\tvalidation_1-logloss:0.36282\n",
      "[143]\tvalidation_0-error:0.06870\tvalidation_0-logloss:0.28475\tvalidation_1-error:0.15025\tvalidation_1-logloss:0.36208\n",
      "[144]\tvalidation_0-error:0.06839\tvalidation_0-logloss:0.28365\tvalidation_1-error:0.15011\tvalidation_1-logloss:0.36140\n",
      "[145]\tvalidation_0-error:0.06839\tvalidation_0-logloss:0.28249\tvalidation_1-error:0.14998\tvalidation_1-logloss:0.36067\n",
      "[146]\tvalidation_0-error:0.06821\tvalidation_0-logloss:0.28139\tvalidation_1-error:0.14971\tvalidation_1-logloss:0.35998\n",
      "[147]\tvalidation_0-error:0.06808\tvalidation_0-logloss:0.28022\tvalidation_1-error:0.15025\tvalidation_1-logloss:0.35931\n",
      "[148]\tvalidation_0-error:0.06786\tvalidation_0-logloss:0.27908\tvalidation_1-error:0.15025\tvalidation_1-logloss:0.35860\n",
      "[149]\tvalidation_0-error:0.06786\tvalidation_0-logloss:0.27803\tvalidation_1-error:0.14958\tvalidation_1-logloss:0.35793\n",
      "[150]\tvalidation_0-error:0.06759\tvalidation_0-logloss:0.27695\tvalidation_1-error:0.14971\tvalidation_1-logloss:0.35726\n",
      "[151]\tvalidation_0-error:0.06759\tvalidation_0-logloss:0.27591\tvalidation_1-error:0.14971\tvalidation_1-logloss:0.35659\n",
      "[152]\tvalidation_0-error:0.06728\tvalidation_0-logloss:0.27487\tvalidation_1-error:0.14932\tvalidation_1-logloss:0.35590\n",
      "[153]\tvalidation_0-error:0.06715\tvalidation_0-logloss:0.27385\tvalidation_1-error:0.14892\tvalidation_1-logloss:0.35525\n",
      "[154]\tvalidation_0-error:0.06706\tvalidation_0-logloss:0.27282\tvalidation_1-error:0.14865\tvalidation_1-logloss:0.35460\n",
      "[155]\tvalidation_0-error:0.06684\tvalidation_0-logloss:0.27182\tvalidation_1-error:0.14879\tvalidation_1-logloss:0.35396\n",
      "[156]\tvalidation_0-error:0.06693\tvalidation_0-logloss:0.27081\tvalidation_1-error:0.14865\tvalidation_1-logloss:0.35333\n",
      "[157]\tvalidation_0-error:0.06662\tvalidation_0-logloss:0.26981\tvalidation_1-error:0.14852\tvalidation_1-logloss:0.35269\n",
      "[158]\tvalidation_0-error:0.06649\tvalidation_0-logloss:0.26882\tvalidation_1-error:0.14799\tvalidation_1-logloss:0.35210\n",
      "[159]\tvalidation_0-error:0.06635\tvalidation_0-logloss:0.26781\tvalidation_1-error:0.14786\tvalidation_1-logloss:0.35146\n",
      "[160]\tvalidation_0-error:0.06631\tvalidation_0-logloss:0.26684\tvalidation_1-error:0.14799\tvalidation_1-logloss:0.35085\n",
      "[161]\tvalidation_0-error:0.06596\tvalidation_0-logloss:0.26581\tvalidation_1-error:0.14773\tvalidation_1-logloss:0.35029\n",
      "[162]\tvalidation_0-error:0.06596\tvalidation_0-logloss:0.26483\tvalidation_1-error:0.14786\tvalidation_1-logloss:0.34970\n",
      "[163]\tvalidation_0-error:0.06574\tvalidation_0-logloss:0.26386\tvalidation_1-error:0.14746\tvalidation_1-logloss:0.34911\n",
      "[164]\tvalidation_0-error:0.06587\tvalidation_0-logloss:0.26295\tvalidation_1-error:0.14733\tvalidation_1-logloss:0.34856\n",
      "[165]\tvalidation_0-error:0.06538\tvalidation_0-logloss:0.26196\tvalidation_1-error:0.14733\tvalidation_1-logloss:0.34802\n",
      "[166]\tvalidation_0-error:0.06547\tvalidation_0-logloss:0.26101\tvalidation_1-error:0.14706\tvalidation_1-logloss:0.34746\n",
      "[167]\tvalidation_0-error:0.06534\tvalidation_0-logloss:0.26013\tvalidation_1-error:0.14733\tvalidation_1-logloss:0.34691\n",
      "[168]\tvalidation_0-error:0.06538\tvalidation_0-logloss:0.25921\tvalidation_1-error:0.14706\tvalidation_1-logloss:0.34636\n",
      "[169]\tvalidation_0-error:0.06485\tvalidation_0-logloss:0.25824\tvalidation_1-error:0.14693\tvalidation_1-logloss:0.34583\n",
      "[170]\tvalidation_0-error:0.06476\tvalidation_0-logloss:0.25736\tvalidation_1-error:0.14733\tvalidation_1-logloss:0.34532\n",
      "[171]\tvalidation_0-error:0.06423\tvalidation_0-logloss:0.25640\tvalidation_1-error:0.14693\tvalidation_1-logloss:0.34484\n",
      "[172]\tvalidation_0-error:0.06423\tvalidation_0-logloss:0.25556\tvalidation_1-error:0.14720\tvalidation_1-logloss:0.34432\n",
      "[173]\tvalidation_0-error:0.06392\tvalidation_0-logloss:0.25466\tvalidation_1-error:0.14680\tvalidation_1-logloss:0.34381\n",
      "[174]\tvalidation_0-error:0.06388\tvalidation_0-logloss:0.25380\tvalidation_1-error:0.14680\tvalidation_1-logloss:0.34331\n",
      "[175]\tvalidation_0-error:0.06379\tvalidation_0-logloss:0.25296\tvalidation_1-error:0.14706\tvalidation_1-logloss:0.34282\n",
      "[176]\tvalidation_0-error:0.06392\tvalidation_0-logloss:0.25212\tvalidation_1-error:0.14653\tvalidation_1-logloss:0.34233\n",
      "[177]\tvalidation_0-error:0.06370\tvalidation_0-logloss:0.25129\tvalidation_1-error:0.14627\tvalidation_1-logloss:0.34185\n",
      "[178]\tvalidation_0-error:0.06375\tvalidation_0-logloss:0.25048\tvalidation_1-error:0.14613\tvalidation_1-logloss:0.34136\n",
      "[179]\tvalidation_0-error:0.06366\tvalidation_0-logloss:0.24967\tvalidation_1-error:0.14587\tvalidation_1-logloss:0.34091\n",
      "[180]\tvalidation_0-error:0.06366\tvalidation_0-logloss:0.24889\tvalidation_1-error:0.14587\tvalidation_1-logloss:0.34044\n",
      "[181]\tvalidation_0-error:0.06361\tvalidation_0-logloss:0.24807\tvalidation_1-error:0.14574\tvalidation_1-logloss:0.33996\n",
      "[182]\tvalidation_0-error:0.06344\tvalidation_0-logloss:0.24728\tvalidation_1-error:0.14653\tvalidation_1-logloss:0.33950\n",
      "[183]\tvalidation_0-error:0.06326\tvalidation_0-logloss:0.24649\tvalidation_1-error:0.14613\tvalidation_1-logloss:0.33905\n",
      "[184]\tvalidation_0-error:0.06335\tvalidation_0-logloss:0.24572\tvalidation_1-error:0.14600\tvalidation_1-logloss:0.33861\n",
      "[185]\tvalidation_0-error:0.06299\tvalidation_0-logloss:0.24495\tvalidation_1-error:0.14587\tvalidation_1-logloss:0.33815\n",
      "[186]\tvalidation_0-error:0.06291\tvalidation_0-logloss:0.24421\tvalidation_1-error:0.14574\tvalidation_1-logloss:0.33772\n",
      "[187]\tvalidation_0-error:0.06277\tvalidation_0-logloss:0.24344\tvalidation_1-error:0.14587\tvalidation_1-logloss:0.33728\n",
      "[188]\tvalidation_0-error:0.06282\tvalidation_0-logloss:0.24272\tvalidation_1-error:0.14587\tvalidation_1-logloss:0.33688\n",
      "[189]\tvalidation_0-error:0.06269\tvalidation_0-logloss:0.24196\tvalidation_1-error:0.14574\tvalidation_1-logloss:0.33646\n",
      "[190]\tvalidation_0-error:0.06255\tvalidation_0-logloss:0.24125\tvalidation_1-error:0.14587\tvalidation_1-logloss:0.33604\n",
      "[191]\tvalidation_0-error:0.06229\tvalidation_0-logloss:0.24052\tvalidation_1-error:0.14574\tvalidation_1-logloss:0.33565\n",
      "[192]\tvalidation_0-error:0.06211\tvalidation_0-logloss:0.23983\tvalidation_1-error:0.14560\tvalidation_1-logloss:0.33523\n",
      "[193]\tvalidation_0-error:0.06207\tvalidation_0-logloss:0.23910\tvalidation_1-error:0.14534\tvalidation_1-logloss:0.33482\n",
      "[194]\tvalidation_0-error:0.06202\tvalidation_0-logloss:0.23840\tvalidation_1-error:0.14507\tvalidation_1-logloss:0.33446\n",
      "[195]\tvalidation_0-error:0.06202\tvalidation_0-logloss:0.23770\tvalidation_1-error:0.14521\tvalidation_1-logloss:0.33409\n",
      "[196]\tvalidation_0-error:0.06202\tvalidation_0-logloss:0.23701\tvalidation_1-error:0.14494\tvalidation_1-logloss:0.33372\n",
      "[197]\tvalidation_0-error:0.06193\tvalidation_0-logloss:0.23635\tvalidation_1-error:0.14507\tvalidation_1-logloss:0.33335\n",
      "[198]\tvalidation_0-error:0.06211\tvalidation_0-logloss:0.23570\tvalidation_1-error:0.14521\tvalidation_1-logloss:0.33299\n",
      "[199]\tvalidation_0-error:0.06193\tvalidation_0-logloss:0.23502\tvalidation_1-error:0.14521\tvalidation_1-logloss:0.33265\n"
     ]
    }
   ],
   "source": [
    "eval_set = [(x_train,y_t1), (x_test, y_t2)]\n",
    "xgb1 = XGBClassifier(**params).fit(x_train,y_t1,\n",
    "                                   early_stopping_rounds=15, \n",
    "                                   eval_metric=[\"error\", \"logloss\"], \n",
    "                                   eval_set=eval_set,\n",
    "                                   verbose=True)"
   ]
  },
  {
   "cell_type": "code",
   "execution_count": 51,
   "id": "3f173af1",
   "metadata": {},
   "outputs": [
    {
     "data": {
      "image/png": "[encoded data removed]",
      "text/plain": [
       "<Figure size 432x288 with 1 Axes>"
      ]
     },
     "metadata": {
      "needs_background": "light"
     },
     "output_type": "display_data"
    },
    {
     "data": {
      "image/png": "[encoded data removed]",
      "text/plain": [
       "<Figure size 432x288 with 1 Axes>"
      ]
     },
     "metadata": {
      "needs_background": "light"
     },
     "output_type": "display_data"
    }
   ],
   "source": [
    "# retrieve performance metrics\n",
    "results = xgb1.evals_result()\n",
    "epochs = len(results['validation_0']['error'])\n",
    "x = range(0, epochs)\n",
    "# plot log loss\n",
    "fig, ax = plt.subplots()\n",
    "ax.plot(x, results['validation_0']['logloss'], label='Train')\n",
    "ax.plot(x, results['validation_1']['logloss'], label='Test')\n",
    "ax.legend()\n",
    "plt.ylabel('Log Loss')\n",
    "plt.xlabel('Epochs')\n",
    "plt.title('XGBoost Log Loss')\n",
    "plt.show()\n",
    "# plot classification error\n",
    "fig, ax = plt.subplots()\n",
    "ax.plot(x, results['validation_0']['error'], label='Train')\n",
    "ax.plot(x, results['validation_1']['error'], label='Test')\n",
    "ax.legend()\n",
    "plt.ylabel('Classification Error')\n",
    "plt.xlabel('Epochs')\n",
    "plt.title('XGBoost Classification Error')\n",
    "plt.show()"
   ]
  },
  {
   "cell_type": "markdown",
   "id": "1a4b29c9",
   "metadata": {},
   "source": [
    "by oberving these model, we can say that we can improve accuracy by adjusting parameters"
   ]
  },
  {
   "cell_type": "code",
   "execution_count": 52,
   "id": "38be7203",
   "metadata": {},
   "outputs": [],
   "source": [
    "import xgboost as xgb"
   ]
  },
  {
   "cell_type": "code",
   "execution_count": 53,
   "id": "b1317ebf",
   "metadata": {},
   "outputs": [],
   "source": [
    "dtrain = xgb.DMatrix(x_train, label = y_t1)\n",
    "dtest = xgb.DMatrix(x_test, label = y_t2)"
   ]
  },
  {
   "cell_type": "code",
   "execution_count": 54,
   "id": "446931ff",
   "metadata": {},
   "outputs": [],
   "source": [
    "#creating watchlist of training to see out output \n",
    "watchlist = [(dtrain,'train'),(dtest, 'eval')]"
   ]
  },
  {
   "cell_type": "code",
   "execution_count": 55,
   "id": "a4a0c7a1",
   "metadata": {},
   "outputs": [],
   "source": [
    "params = {\n",
    "    'objective': 'binary:logistic',\n",
    "    'max_depth': 2,\n",
    "    'learning_rate': 1.0,\n",
    "    'silent': True,    # would be boolean in sklearn\n",
    "    'booster' : 'gbtree',\n",
    "    'max_depth' : 7,\n",
    "    'eval_metric' : 'auc'\n",
    "}\n"
   ]
  },
  {
   "cell_type": "code",
   "execution_count": 56,
   "id": "0c76c76d",
   "metadata": {},
   "outputs": [],
   "source": [
    "# using bydeafault eta [default=0.3, alias: learning_rate]\n",
    "\n",
    "num_rounds = 100  "
   ]
  },
  {
   "cell_type": "code",
   "execution_count": 57,
   "id": "d1d49637",
   "metadata": {},
   "outputs": [
    {
     "name": "stdout",
     "output_type": "stream",
     "text": [
      "[23:48:35] WARNING: C:/buildkite-agent/builds/buildkite-windows-cpu-autoscaling-group-i-08de971ced8a8cdc6-1/xgboost/xgboost-ci-windows/src/learner.cc:767: \n",
      "Parameters: { \"silent\" } are not used.\n",
      "\n",
      "[0]\ttrain-auc:0.90660\teval-auc:0.89886\n",
      "[1]\ttrain-auc:0.91993\teval-auc:0.90949\n",
      "[2]\ttrain-auc:0.92543\teval-auc:0.91238\n",
      "[3]\ttrain-auc:0.92961\teval-auc:0.91503\n",
      "[4]\ttrain-auc:0.93367\teval-auc:0.91965\n",
      "[5]\ttrain-auc:0.93812\teval-auc:0.91951\n",
      "[6]\ttrain-auc:0.94142\teval-auc:0.92020\n",
      "[7]\ttrain-auc:0.94321\teval-auc:0.91955\n",
      "[8]\ttrain-auc:0.94536\teval-auc:0.91909\n",
      "[9]\ttrain-auc:0.94620\teval-auc:0.91843\n",
      "[10]\ttrain-auc:0.94898\teval-auc:0.91731\n",
      "[11]\ttrain-auc:0.95124\teval-auc:0.91580\n",
      "[12]\ttrain-auc:0.95283\teval-auc:0.91465\n",
      "[13]\ttrain-auc:0.95416\teval-auc:0.91410\n",
      "[14]\ttrain-auc:0.95536\teval-auc:0.91445\n",
      "[15]\ttrain-auc:0.95602\teval-auc:0.91457\n",
      "[16]\ttrain-auc:0.95664\teval-auc:0.91463\n",
      "[17]\ttrain-auc:0.95701\teval-auc:0.91475\n",
      "[18]\ttrain-auc:0.95742\teval-auc:0.91474\n",
      "[19]\ttrain-auc:0.95945\teval-auc:0.91379\n",
      "[20]\ttrain-auc:0.95978\teval-auc:0.91476\n"
     ]
    }
   ],
   "source": [
    "model_xgb = xgb.train(params, dtrain, num_rounds, evals = watchlist, early_stopping_rounds = 15, verbose_eval = True)\n"
   ]
  },
  {
   "cell_type": "markdown",
   "id": "239e0c74",
   "metadata": {},
   "source": [
    "we have found that we got training accuracy is **94%** and testing accuracy is **91%**"
   ]
  },
  {
   "cell_type": "code",
   "execution_count": 58,
   "id": "213fee7e",
   "metadata": {},
   "outputs": [],
   "source": [
    "features_contribution = pd.Series(model_xgb.get_fscore()).sort_values(ascending=False)\n"
   ]
  },
  {
   "cell_type": "code",
   "execution_count": 59,
   "id": "2d38cbb7",
   "metadata": {},
   "outputs": [
    {
     "data": {
      "image/png": "[encoded data removed]",
      "text/plain": [
       "<Figure size 1440x720 with 1 Axes>"
      ]
     },
     "metadata": {
      "needs_background": "light"
     },
     "output_type": "display_data"
    }
   ],
   "source": [
    "plt.figure(figsize=(20,10))\n",
    "features_contribution[:50].plot(kind='bar', title='Feature Importances')\n",
    "#features_contribution[:50].plot(kind='line')\n",
    "plt.ylabel('Feature Importance Score')\n",
    "plt.show()"
   ]
  },
  {
   "cell_type": "code",
   "execution_count": null,
   "id": "d19a030c",
   "metadata": {},
   "outputs": [],
   "source": []
  }
 ],
 "metadata": {
  "kernelspec": {
   "display_name": "Python 3 (ipykernel)",
   "language": "python",
   "name": "python3"
  },
  "language_info": {
   "codemirror_mode": {
    "name": "ipython",
    "version": 3
   },
   "file_extension": ".py",
   "mimetype": "text/x-python",
   "name": "python",
   "nbconvert_exporter": "python",
   "pygments_lexer": "ipython3",
   "version": "3.9.12"
  }
 },
 "nbformat": 4,
 "nbformat_minor": 5
}
