{
 "cells": [
  {
   "cell_type": "markdown",
   "id": "b4c0cf7f",
   "metadata": {},
   "source": [
    "## Problem Statement 1:\n",
    "Blood glucose levels for obese patients have a mean of 100 with a standard deviation of 15. A researcher thinks that a diet high in raw cornstarch will have a positive effect on\n",
    "blood glucose levels. A sample of 36 patients who have tried the raw cornstarch diet\n",
    "have a mean glucose level of 108. Test the hypothesis that the raw cornstarch had an\n",
    "effect or not"
   ]
  },
  {
   "cell_type": "code",
   "execution_count": 33,
   "id": "5dfe952b",
   "metadata": {},
   "outputs": [],
   "source": [
    "import math\n",
    "sample_count = 36\n",
    "sample_mean = 108\n",
    "population_mean = 100\n",
    "populationSigma = 15 #given that is standard deviation"
   ]
  },
  {
   "cell_type": "markdown",
   "id": "09d92bb2",
   "metadata": {},
   "source": [
    "lets consider null hypothesis  <br>\n",
    "lets consider H0 = 100   <br>\n",
    "and H1 is not = 100    <br>\n",
    "lets assume alpha = 0.05  <br>\n",
    "\n",
    "\n"
   ]
  },
  {
   "cell_type": "code",
   "execution_count": 34,
   "id": "824d35fa",
   "metadata": {},
   "outputs": [
    {
     "name": "stdout",
     "output_type": "stream",
     "text": [
      "Z score value is: 3.2\n"
     ]
    }
   ],
   "source": [
    "# lets calculate zScore value\n",
    "zScore = (sample_mean-population_mean) / (populationSigma /math.sqrt(sample_count))\n",
    "print(f'Z score value is: {zScore}')"
   ]
  },
  {
   "cell_type": "markdown",
   "id": "396cd1ec",
   "metadata": {},
   "source": [
    "If we chek this value in z table, then we get 0.9993  <br>\n",
    "means probability of less than 108 is 99.93 and more than or equal to 108 is 0.007. It is less than 0.05. soo we will reject\n",
    "null hypothesis"
   ]
  },
  {
   "cell_type": "markdown",
   "id": "cd7df352",
   "metadata": {},
   "source": [
    "## Problem Statement 2:\n",
    "In one state, 52% of the voters are Republicans, and 48% are Democrats. In a second\n",
    "state, 47% of the voters are Republicans, and 53% are Democrats. Suppose a simple\n",
    "random sample of 100 voters are surveyed from each state.\n",
    "What is the probability that the survey will show a greater percentage of Republican\n",
    "voters in the second state than in the first state?"
   ]
  },
  {
   "cell_type": "code",
   "execution_count": 35,
   "id": "84aa2b55",
   "metadata": {},
   "outputs": [],
   "source": [
    "n1 = 100  # Voters sampled from first state\n",
    "n2 = 100  # # Voters sampled from second state\n",
    "\n",
    "P1 = 0.52\n",
    "P2 = 0.47\n",
    "\n",
    "Q1 = 0.48 \n",
    "# (1-P1, this is proportion of non republican voters in first state)\n",
    "\n",
    "Q2 = 0.53\n",
    "# (1-P2, this is proportion of non republican voters in first state)\n",
    "\n",
    "mu = P1 - P2\n",
    "\n",
    "std = math.sqrt(((P1*Q1) / n1) + ((P2*Q2) / n2))"
   ]
  },
  {
   "cell_type": "code",
   "execution_count": 36,
   "id": "619c350c",
   "metadata": {},
   "outputs": [
    {
     "name": "stdout",
     "output_type": "stream",
     "text": [
      "The value of mu: 0.050000000000000044 and the value of std is: 0.07061869440877536\n"
     ]
    }
   ],
   "source": [
    "print(f'The value of mu: {mu} and the value of std is: {std}')"
   ]
  },
  {
   "cell_type": "code",
   "execution_count": 37,
   "id": "d26bd9ed",
   "metadata": {},
   "outputs": [],
   "source": [
    "x = 0\n",
    "zScore = (x-mu) / std"
   ]
  },
  {
   "cell_type": "code",
   "execution_count": 38,
   "id": "d63dcf28",
   "metadata": {},
   "outputs": [
    {
     "name": "stdout",
     "output_type": "stream",
     "text": [
      "Z score value is: -0.7080278164104213\n"
     ]
    }
   ],
   "source": [
    "print(f'Z score value is: {zScore}')"
   ]
  },
  {
   "cell_type": "markdown",
   "id": "aabe1133",
   "metadata": {},
   "source": [
    "The probability that the survey will show greater percentage of republican voters in the second state than in the first state. "
   ]
  },
  {
   "cell_type": "markdown",
   "id": "b821f4db",
   "metadata": {},
   "source": [
    "## Problem Statement 3:\n",
    "You take the SAT and score 1100. The mean score for the SAT is 1026 and the standard\n",
    "deviation is 209. How well did you score on the test compared to the average test taker?"
   ]
  },
  {
   "cell_type": "code",
   "execution_count": 39,
   "id": "b03224c7",
   "metadata": {},
   "outputs": [],
   "source": [
    "# lets\n",
    "x = 1100  # score \n",
    "mu = 1026   #population mean\n",
    "standard_dev = 209"
   ]
  },
  {
   "cell_type": "code",
   "execution_count": 40,
   "id": "bee1cae6",
   "metadata": {},
   "outputs": [],
   "source": [
    "zScore = (x - mu)/standard_dev"
   ]
  },
  {
   "cell_type": "code",
   "execution_count": 41,
   "id": "f0630700",
   "metadata": {},
   "outputs": [
    {
     "name": "stdout",
     "output_type": "stream",
     "text": [
      "Z score value is: 0.35406698564593303\n"
     ]
    }
   ],
   "source": [
    "print(f'Z score value is: {zScore}')"
   ]
  },
  {
   "cell_type": "markdown",
   "id": "be71f7a2",
   "metadata": {},
   "source": [
    "here we can conclude that the x value is 0.35 standard deviation above the mean."
   ]
  }
 ],
 "metadata": {
  "kernelspec": {
   "display_name": "Python 3 (ipykernel)",
   "language": "python",
   "name": "python3"
  },
  "language_info": {
   "codemirror_mode": {
    "name": "ipython",
    "version": 3
   },
   "file_extension": ".py",
   "mimetype": "text/x-python",
   "name": "python",
   "nbconvert_exporter": "python",
   "pygments_lexer": "ipython3",
   "version": "3.10.7"
  }
 },
 "nbformat": 4,
 "nbformat_minor": 5
}
