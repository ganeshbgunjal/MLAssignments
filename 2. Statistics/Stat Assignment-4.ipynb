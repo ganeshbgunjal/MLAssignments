{
 "cells": [
  {
   "cell_type": "markdown",
   "id": "37a60d7f",
   "metadata": {},
   "source": [
    "## Problem Statement 1:"
   ]
  },
  {
   "cell_type": "markdown",
   "id": "2524e213",
   "metadata": {},
   "source": [
    "Is gender independent of education level? A random sample of 395 people were\n",
    "surveyed and each person was asked to report the highest education level they\n",
    "obtained. The data that resulted from the survey is summarized in the following table:"
   ]
  },
  {
   "cell_type": "code",
   "execution_count": 1,
   "id": "518d26c5",
   "metadata": {},
   "outputs": [],
   "source": [
    "#          High_School Bachelors   Masters  Ph.d.   Total\n",
    "# Female        60        54         46     41    201\n",
    "# Male          40        44         53     57    194\n",
    "# Total         100       98         99     98    395"
   ]
  },
  {
   "cell_type": "markdown",
   "id": "1abaef77",
   "metadata": {},
   "source": [
    "Question:\n",
    "\n",
    "Are gender and education level dependent at 5% level of significance? In other words, given the data collected\n",
    "above,is there a relationship between the gender of an individual and the level of education that they have obtained?"
   ]
  },
  {
   "cell_type": "code",
   "execution_count": 2,
   "id": "9205f953",
   "metadata": {},
   "outputs": [],
   "source": [
    "import numpy as np\n",
    "import pandas as pd\n",
    "import scipy.stats as stats"
   ]
  },
  {
   "cell_type": "code",
   "execution_count": 3,
   "id": "bfffa58d",
   "metadata": {},
   "outputs": [
    {
     "name": "stdout",
     "output_type": "stream",
     "text": [
      "[40, 44, 53, 57, 60, 54, 46, 41]\n",
      "     Education  Marks Sex\n",
      "0  High_school     40   M\n",
      "1    Bachelors     44   M\n",
      "2      Masters     53   M\n",
      "3         Ph.d     57   M\n",
      "4  High_school     60   F\n",
      "5    Bachelors     54   F\n",
      "6      Masters     46   F\n",
      "7         Ph.d     41   F\n"
     ]
    }
   ],
   "source": [
    "male = [40,44,53,57]\n",
    "female = [60,54,46,41]\n",
    "High_school=[60,40]\n",
    "Bachelors = [54,44]\n",
    "Masters = [46,53]\n",
    "Phd = [41,57]\n",
    "marks = male+female\n",
    "print(marks)\n",
    "sex=['M','M','M','M','F','F','F','F']\n",
    "education =['High_school','Bachelors','Masters','Ph.d','High_school','Bachelors','Masters','Ph.d']\n",
    "DF=pd.DataFrame({\"Education\":education,\"Marks\":marks,\"Sex\":sex})\n",
    "DF\n",
    "print(DF)"
   ]
  },
  {
   "cell_type": "code",
   "execution_count": 4,
   "id": "8b0d8c4e",
   "metadata": {},
   "outputs": [
    {
     "name": "stdout",
     "output_type": "stream",
     "text": [
      "[40, 44, 53, 57, 60, 54, 46, 41]\n"
     ]
    }
   ],
   "source": [
    "male = [40,44,53,57]\n",
    "female = [60,54,46,41]\n",
    "\n",
    "High_school = [60,40]\n",
    "masters = [46,53]\n",
    "phd = [41,57]\n",
    "marks = male + female\n",
    "print(marks)\n",
    "\n",
    "sex = ['M','M','M','M','F','F','F','F']\n",
    "education =['High_school','Bachelors','Masters','Ph.d','High_school','Bachelors','Masters','Ph.d']\n",
    "\n",
    "df = pd.DataFrame({\"Education\":education,\"Marks\":marks,\"Sex\":sex})"
   ]
  },
  {
   "cell_type": "code",
   "execution_count": 5,
   "id": "2d860059",
   "metadata": {},
   "outputs": [
    {
     "data": {
      "text/html": [
       "<div>\n",
       "<style scoped>\n",
       "    .dataframe tbody tr th:only-of-type {\n",
       "        vertical-align: middle;\n",
       "    }\n",
       "\n",
       "    .dataframe tbody tr th {\n",
       "        vertical-align: top;\n",
       "    }\n",
       "\n",
       "    .dataframe thead th {\n",
       "        text-align: right;\n",
       "    }\n",
       "</style>\n",
       "<table border=\"1\" class=\"dataframe\">\n",
       "  <thead>\n",
       "    <tr style=\"text-align: right;\">\n",
       "      <th></th>\n",
       "      <th>Education</th>\n",
       "      <th>Marks</th>\n",
       "      <th>Sex</th>\n",
       "    </tr>\n",
       "  </thead>\n",
       "  <tbody>\n",
       "    <tr>\n",
       "      <th>0</th>\n",
       "      <td>High_school</td>\n",
       "      <td>40</td>\n",
       "      <td>M</td>\n",
       "    </tr>\n",
       "    <tr>\n",
       "      <th>1</th>\n",
       "      <td>Bachelors</td>\n",
       "      <td>44</td>\n",
       "      <td>M</td>\n",
       "    </tr>\n",
       "    <tr>\n",
       "      <th>2</th>\n",
       "      <td>Masters</td>\n",
       "      <td>53</td>\n",
       "      <td>M</td>\n",
       "    </tr>\n",
       "    <tr>\n",
       "      <th>3</th>\n",
       "      <td>Ph.d</td>\n",
       "      <td>57</td>\n",
       "      <td>M</td>\n",
       "    </tr>\n",
       "    <tr>\n",
       "      <th>4</th>\n",
       "      <td>High_school</td>\n",
       "      <td>60</td>\n",
       "      <td>F</td>\n",
       "    </tr>\n",
       "    <tr>\n",
       "      <th>5</th>\n",
       "      <td>Bachelors</td>\n",
       "      <td>54</td>\n",
       "      <td>F</td>\n",
       "    </tr>\n",
       "    <tr>\n",
       "      <th>6</th>\n",
       "      <td>Masters</td>\n",
       "      <td>46</td>\n",
       "      <td>F</td>\n",
       "    </tr>\n",
       "    <tr>\n",
       "      <th>7</th>\n",
       "      <td>Ph.d</td>\n",
       "      <td>41</td>\n",
       "      <td>F</td>\n",
       "    </tr>\n",
       "  </tbody>\n",
       "</table>\n",
       "</div>"
      ],
      "text/plain": [
       "     Education  Marks Sex\n",
       "0  High_school     40   M\n",
       "1    Bachelors     44   M\n",
       "2      Masters     53   M\n",
       "3         Ph.d     57   M\n",
       "4  High_school     60   F\n",
       "5    Bachelors     54   F\n",
       "6      Masters     46   F\n",
       "7         Ph.d     41   F"
      ]
     },
     "execution_count": 5,
     "metadata": {},
     "output_type": "execute_result"
    }
   ],
   "source": [
    "df"
   ]
  },
  {
   "cell_type": "markdown",
   "id": "596187ae",
   "metadata": {},
   "source": [
    "lets consider null hypothesis  <br>\n",
    "   H0(null hyppothesis) = the two categorical variables are indepemdant   <br>\n",
    "    H1(alternate hypothesis) = the two categorical variables are not independant"
   ]
  },
  {
   "cell_type": "code",
   "execution_count": 6,
   "id": "d137425a",
   "metadata": {},
   "outputs": [],
   "source": [
    "cross_tab = pd.crosstab([df.Sex,df.Marks],df.Education,margins=True)\n",
    "# crosstab() function is used to compute a simple cross tabulation of two (or more) factors.\n"
   ]
  },
  {
   "cell_type": "code",
   "execution_count": 7,
   "id": "b96b4ca9",
   "metadata": {},
   "outputs": [
    {
     "data": {
      "text/html": [
       "<div>\n",
       "<style scoped>\n",
       "    .dataframe tbody tr th:only-of-type {\n",
       "        vertical-align: middle;\n",
       "    }\n",
       "\n",
       "    .dataframe tbody tr th {\n",
       "        vertical-align: top;\n",
       "    }\n",
       "\n",
       "    .dataframe thead th {\n",
       "        text-align: right;\n",
       "    }\n",
       "</style>\n",
       "<table border=\"1\" class=\"dataframe\">\n",
       "  <thead>\n",
       "    <tr style=\"text-align: right;\">\n",
       "      <th></th>\n",
       "      <th>Education</th>\n",
       "      <th>Bachelors</th>\n",
       "      <th>High_school</th>\n",
       "      <th>Masters</th>\n",
       "      <th>Ph.d</th>\n",
       "      <th>All</th>\n",
       "    </tr>\n",
       "    <tr>\n",
       "      <th>Sex</th>\n",
       "      <th>Marks</th>\n",
       "      <th></th>\n",
       "      <th></th>\n",
       "      <th></th>\n",
       "      <th></th>\n",
       "      <th></th>\n",
       "    </tr>\n",
       "  </thead>\n",
       "  <tbody>\n",
       "    <tr>\n",
       "      <th rowspan=\"4\" valign=\"top\">F</th>\n",
       "      <th>41</th>\n",
       "      <td>0</td>\n",
       "      <td>0</td>\n",
       "      <td>0</td>\n",
       "      <td>1</td>\n",
       "      <td>1</td>\n",
       "    </tr>\n",
       "    <tr>\n",
       "      <th>46</th>\n",
       "      <td>0</td>\n",
       "      <td>0</td>\n",
       "      <td>1</td>\n",
       "      <td>0</td>\n",
       "      <td>1</td>\n",
       "    </tr>\n",
       "    <tr>\n",
       "      <th>54</th>\n",
       "      <td>1</td>\n",
       "      <td>0</td>\n",
       "      <td>0</td>\n",
       "      <td>0</td>\n",
       "      <td>1</td>\n",
       "    </tr>\n",
       "    <tr>\n",
       "      <th>60</th>\n",
       "      <td>0</td>\n",
       "      <td>1</td>\n",
       "      <td>0</td>\n",
       "      <td>0</td>\n",
       "      <td>1</td>\n",
       "    </tr>\n",
       "    <tr>\n",
       "      <th rowspan=\"4\" valign=\"top\">M</th>\n",
       "      <th>40</th>\n",
       "      <td>0</td>\n",
       "      <td>1</td>\n",
       "      <td>0</td>\n",
       "      <td>0</td>\n",
       "      <td>1</td>\n",
       "    </tr>\n",
       "    <tr>\n",
       "      <th>44</th>\n",
       "      <td>1</td>\n",
       "      <td>0</td>\n",
       "      <td>0</td>\n",
       "      <td>0</td>\n",
       "      <td>1</td>\n",
       "    </tr>\n",
       "    <tr>\n",
       "      <th>53</th>\n",
       "      <td>0</td>\n",
       "      <td>0</td>\n",
       "      <td>1</td>\n",
       "      <td>0</td>\n",
       "      <td>1</td>\n",
       "    </tr>\n",
       "    <tr>\n",
       "      <th>57</th>\n",
       "      <td>0</td>\n",
       "      <td>0</td>\n",
       "      <td>0</td>\n",
       "      <td>1</td>\n",
       "      <td>1</td>\n",
       "    </tr>\n",
       "    <tr>\n",
       "      <th>All</th>\n",
       "      <th></th>\n",
       "      <td>2</td>\n",
       "      <td>2</td>\n",
       "      <td>2</td>\n",
       "      <td>2</td>\n",
       "      <td>8</td>\n",
       "    </tr>\n",
       "  </tbody>\n",
       "</table>\n",
       "</div>"
      ],
      "text/plain": [
       "Education  Bachelors  High_school  Masters  Ph.d  All\n",
       "Sex Marks                                            \n",
       "F   41             0            0        0     1    1\n",
       "    46             0            0        1     0    1\n",
       "    54             1            0        0     0    1\n",
       "    60             0            1        0     0    1\n",
       "M   40             0            1        0     0    1\n",
       "    44             1            0        0     0    1\n",
       "    53             0            0        1     0    1\n",
       "    57             0            0        0     1    1\n",
       "All                2            2        2     2    8"
      ]
     },
     "execution_count": 7,
     "metadata": {},
     "output_type": "execute_result"
    }
   ],
   "source": [
    "cross_tab"
   ]
  },
  {
   "cell_type": "code",
   "execution_count": 8,
   "id": "3549c578",
   "metadata": {},
   "outputs": [
    {
     "data": {
      "text/html": [
       "<div>\n",
       "<style scoped>\n",
       "    .dataframe tbody tr th:only-of-type {\n",
       "        vertical-align: middle;\n",
       "    }\n",
       "\n",
       "    .dataframe tbody tr th {\n",
       "        vertical-align: top;\n",
       "    }\n",
       "\n",
       "    .dataframe thead th {\n",
       "        text-align: right;\n",
       "    }\n",
       "</style>\n",
       "<table border=\"1\" class=\"dataframe\">\n",
       "  <thead>\n",
       "    <tr style=\"text-align: right;\">\n",
       "      <th>Education</th>\n",
       "      <th>Bachelors</th>\n",
       "      <th>High_school</th>\n",
       "      <th>Masters</th>\n",
       "      <th>Ph.d</th>\n",
       "      <th>All</th>\n",
       "    </tr>\n",
       "    <tr>\n",
       "      <th>Sex</th>\n",
       "      <th></th>\n",
       "      <th></th>\n",
       "      <th></th>\n",
       "      <th></th>\n",
       "      <th></th>\n",
       "    </tr>\n",
       "  </thead>\n",
       "  <tbody>\n",
       "    <tr>\n",
       "      <th>F</th>\n",
       "      <td>54</td>\n",
       "      <td>60</td>\n",
       "      <td>46</td>\n",
       "      <td>41</td>\n",
       "      <td>201</td>\n",
       "    </tr>\n",
       "    <tr>\n",
       "      <th>M</th>\n",
       "      <td>44</td>\n",
       "      <td>40</td>\n",
       "      <td>53</td>\n",
       "      <td>57</td>\n",
       "      <td>194</td>\n",
       "    </tr>\n",
       "    <tr>\n",
       "      <th>All</th>\n",
       "      <td>98</td>\n",
       "      <td>100</td>\n",
       "      <td>99</td>\n",
       "      <td>98</td>\n",
       "      <td>395</td>\n",
       "    </tr>\n",
       "  </tbody>\n",
       "</table>\n",
       "</div>"
      ],
      "text/plain": [
       "Education  Bachelors  High_school  Masters  Ph.d  All\n",
       "Sex                                                  \n",
       "F                 54           60       46    41  201\n",
       "M                 44           40       53    57  194\n",
       "All               98          100       99    98  395"
      ]
     },
     "execution_count": 8,
     "metadata": {},
     "output_type": "execute_result"
    }
   ],
   "source": [
    "DF1 = pd.crosstab(DF.Sex, DF.Education,DF.Marks, aggfunc=\"sum\",margins=True)\n",
    "DF1"
   ]
  },
  {
   "cell_type": "code",
   "execution_count": 9,
   "id": "ee0ded83",
   "metadata": {},
   "outputs": [],
   "source": [
    "df1 = pd.crosstab(df.Sex,df.Education,df.Marks,aggfunc=\"sum\",margins=True)"
   ]
  },
  {
   "cell_type": "code",
   "execution_count": 10,
   "id": "b9f65f3a",
   "metadata": {},
   "outputs": [
    {
     "data": {
      "text/html": [
       "<div>\n",
       "<style scoped>\n",
       "    .dataframe tbody tr th:only-of-type {\n",
       "        vertical-align: middle;\n",
       "    }\n",
       "\n",
       "    .dataframe tbody tr th {\n",
       "        vertical-align: top;\n",
       "    }\n",
       "\n",
       "    .dataframe thead th {\n",
       "        text-align: right;\n",
       "    }\n",
       "</style>\n",
       "<table border=\"1\" class=\"dataframe\">\n",
       "  <thead>\n",
       "    <tr style=\"text-align: right;\">\n",
       "      <th>Education</th>\n",
       "      <th>Bachelors</th>\n",
       "      <th>High_school</th>\n",
       "      <th>Masters</th>\n",
       "      <th>Ph.d</th>\n",
       "      <th>All</th>\n",
       "    </tr>\n",
       "    <tr>\n",
       "      <th>Sex</th>\n",
       "      <th></th>\n",
       "      <th></th>\n",
       "      <th></th>\n",
       "      <th></th>\n",
       "      <th></th>\n",
       "    </tr>\n",
       "  </thead>\n",
       "  <tbody>\n",
       "    <tr>\n",
       "      <th>F</th>\n",
       "      <td>54</td>\n",
       "      <td>60</td>\n",
       "      <td>46</td>\n",
       "      <td>41</td>\n",
       "      <td>201</td>\n",
       "    </tr>\n",
       "    <tr>\n",
       "      <th>M</th>\n",
       "      <td>44</td>\n",
       "      <td>40</td>\n",
       "      <td>53</td>\n",
       "      <td>57</td>\n",
       "      <td>194</td>\n",
       "    </tr>\n",
       "    <tr>\n",
       "      <th>All</th>\n",
       "      <td>98</td>\n",
       "      <td>100</td>\n",
       "      <td>99</td>\n",
       "      <td>98</td>\n",
       "      <td>395</td>\n",
       "    </tr>\n",
       "  </tbody>\n",
       "</table>\n",
       "</div>"
      ],
      "text/plain": [
       "Education  Bachelors  High_school  Masters  Ph.d  All\n",
       "Sex                                                  \n",
       "F                 54           60       46    41  201\n",
       "M                 44           40       53    57  194\n",
       "All               98          100       99    98  395"
      ]
     },
     "execution_count": 10,
     "metadata": {},
     "output_type": "execute_result"
    }
   ],
   "source": [
    "df1"
   ]
  },
  {
   "cell_type": "code",
   "execution_count": 11,
   "id": "4269492f",
   "metadata": {},
   "outputs": [
    {
     "data": {
      "text/html": [
       "<div>\n",
       "<style scoped>\n",
       "    .dataframe tbody tr th:only-of-type {\n",
       "        vertical-align: middle;\n",
       "    }\n",
       "\n",
       "    .dataframe tbody tr th {\n",
       "        vertical-align: top;\n",
       "    }\n",
       "\n",
       "    .dataframe thead th {\n",
       "        text-align: right;\n",
       "    }\n",
       "</style>\n",
       "<table border=\"1\" class=\"dataframe\">\n",
       "  <thead>\n",
       "    <tr style=\"text-align: right;\">\n",
       "      <th></th>\n",
       "      <th>Bachelors</th>\n",
       "      <th>High_School</th>\n",
       "      <th>Masters</th>\n",
       "      <th>Ph.d.</th>\n",
       "      <th>Genderwise_total</th>\n",
       "    </tr>\n",
       "  </thead>\n",
       "  <tbody>\n",
       "    <tr>\n",
       "      <th>Female</th>\n",
       "      <td>54</td>\n",
       "      <td>60</td>\n",
       "      <td>46</td>\n",
       "      <td>41</td>\n",
       "      <td>201</td>\n",
       "    </tr>\n",
       "    <tr>\n",
       "      <th>Male</th>\n",
       "      <td>44</td>\n",
       "      <td>40</td>\n",
       "      <td>53</td>\n",
       "      <td>57</td>\n",
       "      <td>194</td>\n",
       "    </tr>\n",
       "    <tr>\n",
       "      <th>Combined</th>\n",
       "      <td>98</td>\n",
       "      <td>100</td>\n",
       "      <td>99</td>\n",
       "      <td>98</td>\n",
       "      <td>395</td>\n",
       "    </tr>\n",
       "  </tbody>\n",
       "</table>\n",
       "</div>"
      ],
      "text/plain": [
       "          Bachelors  High_School  Masters  Ph.d.  Genderwise_total\n",
       "Female           54           60       46     41               201\n",
       "Male             44           40       53     57               194\n",
       "Combined         98          100       99     98               395"
      ]
     },
     "execution_count": 11,
     "metadata": {},
     "output_type": "execute_result"
    }
   ],
   "source": [
    "DF1.columns = [\"Bachelors\",\"High_School\",\"Masters\",\"Ph.d.\",\"Genderwise_total\"]\n",
    "DF1.index = [\"Female\",\"Male\",\"Combined\"]\n",
    "DF1"
   ]
  },
  {
   "cell_type": "code",
   "execution_count": 12,
   "id": "2b8cde64",
   "metadata": {},
   "outputs": [],
   "source": [
    "df1.columns = [\"Bachelors\",\"High_school\",\"Masters\",\"Ph.d\",\"Genderwise_total\"]\n",
    "df1.index = [\"Female\",\"Male\",\"Combined\"]"
   ]
  },
  {
   "cell_type": "code",
   "execution_count": 13,
   "id": "35af0f4a",
   "metadata": {},
   "outputs": [
    {
     "data": {
      "text/html": [
       "<div>\n",
       "<style scoped>\n",
       "    .dataframe tbody tr th:only-of-type {\n",
       "        vertical-align: middle;\n",
       "    }\n",
       "\n",
       "    .dataframe tbody tr th {\n",
       "        vertical-align: top;\n",
       "    }\n",
       "\n",
       "    .dataframe thead th {\n",
       "        text-align: right;\n",
       "    }\n",
       "</style>\n",
       "<table border=\"1\" class=\"dataframe\">\n",
       "  <thead>\n",
       "    <tr style=\"text-align: right;\">\n",
       "      <th></th>\n",
       "      <th>Bachelors</th>\n",
       "      <th>High_school</th>\n",
       "      <th>Masters</th>\n",
       "      <th>Ph.d</th>\n",
       "      <th>Genderwise_total</th>\n",
       "    </tr>\n",
       "  </thead>\n",
       "  <tbody>\n",
       "    <tr>\n",
       "      <th>Female</th>\n",
       "      <td>54</td>\n",
       "      <td>60</td>\n",
       "      <td>46</td>\n",
       "      <td>41</td>\n",
       "      <td>201</td>\n",
       "    </tr>\n",
       "    <tr>\n",
       "      <th>Male</th>\n",
       "      <td>44</td>\n",
       "      <td>40</td>\n",
       "      <td>53</td>\n",
       "      <td>57</td>\n",
       "      <td>194</td>\n",
       "    </tr>\n",
       "    <tr>\n",
       "      <th>Combined</th>\n",
       "      <td>98</td>\n",
       "      <td>100</td>\n",
       "      <td>99</td>\n",
       "      <td>98</td>\n",
       "      <td>395</td>\n",
       "    </tr>\n",
       "  </tbody>\n",
       "</table>\n",
       "</div>"
      ],
      "text/plain": [
       "          Bachelors  High_school  Masters  Ph.d  Genderwise_total\n",
       "Female           54           60       46    41               201\n",
       "Male             44           40       53    57               194\n",
       "Combined         98          100       99    98               395"
      ]
     },
     "execution_count": 13,
     "metadata": {},
     "output_type": "execute_result"
    }
   ],
   "source": [
    "df1"
   ]
  },
  {
   "cell_type": "code",
   "execution_count": 14,
   "id": "817840ed",
   "metadata": {},
   "outputs": [
    {
     "data": {
      "text/html": [
       "<div>\n",
       "<style scoped>\n",
       "    .dataframe tbody tr th:only-of-type {\n",
       "        vertical-align: middle;\n",
       "    }\n",
       "\n",
       "    .dataframe tbody tr th {\n",
       "        vertical-align: top;\n",
       "    }\n",
       "\n",
       "    .dataframe thead th {\n",
       "        text-align: right;\n",
       "    }\n",
       "</style>\n",
       "<table border=\"1\" class=\"dataframe\">\n",
       "  <thead>\n",
       "    <tr style=\"text-align: right;\">\n",
       "      <th></th>\n",
       "      <th>Bachelors</th>\n",
       "      <th>High_school</th>\n",
       "      <th>Masters</th>\n",
       "      <th>Ph.d</th>\n",
       "    </tr>\n",
       "  </thead>\n",
       "  <tbody>\n",
       "    <tr>\n",
       "      <th>Female</th>\n",
       "      <td>54</td>\n",
       "      <td>60</td>\n",
       "      <td>46</td>\n",
       "      <td>41</td>\n",
       "    </tr>\n",
       "    <tr>\n",
       "      <th>Male</th>\n",
       "      <td>44</td>\n",
       "      <td>40</td>\n",
       "      <td>53</td>\n",
       "      <td>57</td>\n",
       "    </tr>\n",
       "  </tbody>\n",
       "</table>\n",
       "</div>"
      ],
      "text/plain": [
       "        Bachelors  High_school  Masters  Ph.d\n",
       "Female         54           60       46    41\n",
       "Male           44           40       53    57"
      ]
     },
     "execution_count": 14,
     "metadata": {},
     "output_type": "execute_result"
    }
   ],
   "source": [
    "df2 = df1.iloc[0:2,0:4]\n",
    "df2"
   ]
  },
  {
   "cell_type": "code",
   "execution_count": 15,
   "id": "9b3f118d",
   "metadata": {},
   "outputs": [],
   "source": [
    "# For a test of independence, we use the same chi-squared formula that we used for the goodness-of-fit test.\n",
    "# The main difference is we have to calculate the expected counts of each cellin a 2-dimensional table instead of a 1-dimensional table. To get the expected count for a cell, multiply the row total for that cell by the column\n",
    "# total for that cell and then divide by the total number of observations. We can quickly get the expected counts\n",
    "# for all cells in the table by taking the row totals and column totals of the table, performing an outer product on them with the np.outer() function and dividing by the number of observations:\n"
   ]
  },
  {
   "cell_type": "code",
   "execution_count": 16,
   "id": "4eda39d8",
   "metadata": {},
   "outputs": [
    {
     "data": {
      "text/html": [
       "<div>\n",
       "<style scoped>\n",
       "    .dataframe tbody tr th:only-of-type {\n",
       "        vertical-align: middle;\n",
       "    }\n",
       "\n",
       "    .dataframe tbody tr th {\n",
       "        vertical-align: top;\n",
       "    }\n",
       "\n",
       "    .dataframe thead th {\n",
       "        text-align: right;\n",
       "    }\n",
       "</style>\n",
       "<table border=\"1\" class=\"dataframe\">\n",
       "  <thead>\n",
       "    <tr style=\"text-align: right;\">\n",
       "      <th></th>\n",
       "      <th>Bachelors</th>\n",
       "      <th>High_School</th>\n",
       "      <th>Masters</th>\n",
       "      <th>Ph.d.</th>\n",
       "    </tr>\n",
       "  </thead>\n",
       "  <tbody>\n",
       "    <tr>\n",
       "      <th>female</th>\n",
       "      <td>49.868354</td>\n",
       "      <td>50.886076</td>\n",
       "      <td>50.377215</td>\n",
       "      <td>49.868354</td>\n",
       "    </tr>\n",
       "    <tr>\n",
       "      <th>male</th>\n",
       "      <td>48.131646</td>\n",
       "      <td>49.113924</td>\n",
       "      <td>48.622785</td>\n",
       "      <td>48.131646</td>\n",
       "    </tr>\n",
       "  </tbody>\n",
       "</table>\n",
       "</div>"
      ],
      "text/plain": [
       "        Bachelors  High_School    Masters      Ph.d.\n",
       "female  49.868354    50.886076  50.377215  49.868354\n",
       "male    48.131646    49.113924  48.622785  48.131646"
      ]
     },
     "execution_count": 16,
     "metadata": {},
     "output_type": "execute_result"
    }
   ],
   "source": [
    "df3 = np.outer(df1[\"Genderwise_total\"][0:2],df1.loc[\"Combined\"][0:4])/395.0\n",
    "df3 = pd.DataFrame(df3)\n",
    "df3.columns = [\"Bachelors\",\"High_School\",\"Masters\",\"Ph.d.\"]\n",
    "df3.index = [\"female\",\"male\"]\n",
    "df3"
   ]
  },
  {
   "cell_type": "code",
   "execution_count": 17,
   "id": "daa711e8",
   "metadata": {},
   "outputs": [],
   "source": [
    "# Now we will calculate the chi square statistic\n",
    "# We called the .sum() twice, once to get the column sum and second time to add the sum, returning the sum of entire 2D table\n"
   ]
  },
  {
   "cell_type": "code",
   "execution_count": 18,
   "id": "2bb5bbc9",
   "metadata": {},
   "outputs": [
    {
     "name": "stdout",
     "output_type": "stream",
     "text": [
      "0.0\n"
     ]
    }
   ],
   "source": [
    "chi_square_stat = (((df3-df2)**2)/df3).sum().sum()\n",
    "print(chi_square_stat)"
   ]
  },
  {
   "cell_type": "code",
   "execution_count": 19,
   "id": "2f2b4f9a",
   "metadata": {},
   "outputs": [],
   "source": [
    "#Find the critical value for 95% confidence and degree of freedom (df) is 3"
   ]
  },
  {
   "cell_type": "code",
   "execution_count": 20,
   "id": "e3d6a3fa",
   "metadata": {},
   "outputs": [
    {
     "name": "stdout",
     "output_type": "stream",
     "text": [
      "Critical value= 7.814727903251179\n"
     ]
    }
   ],
   "source": [
    "critical_val = stats.chi2.ppf(q=0.95,df=3)\n",
    "print(f'Critical value= {critical_val}')"
   ]
  },
  {
   "cell_type": "code",
   "execution_count": 22,
   "id": "a0939fe0",
   "metadata": {},
   "outputs": [],
   "source": [
    "# Now to calculate p value"
   ]
  },
  {
   "cell_type": "code",
   "execution_count": 23,
   "id": "ccd6c7fb",
   "metadata": {},
   "outputs": [
    {
     "name": "stdout",
     "output_type": "stream",
     "text": [
      "P value is= 1.0\n"
     ]
    }
   ],
   "source": [
    "p_val = 1-stats.chi2.cdf(x=chi_square_stat,df=3)\n",
    "print(f'P value is= {p_val}')"
   ]
  },
  {
   "cell_type": "code",
   "execution_count": 24,
   "id": "d7352c8b",
   "metadata": {},
   "outputs": [],
   "source": [
    "# Use stats.chi2_contingency() function to conduct a test of independence automatically given a frequency table  of \n",
    "# observed counts"
   ]
  },
  {
   "cell_type": "code",
   "execution_count": 25,
   "id": "0b514000",
   "metadata": {},
   "outputs": [
    {
     "name": "stdout",
     "output_type": "stream",
     "text": [
      "(8.006066246262538, 0.045886500891747214, 3, array([[49.86835443, 50.88607595, 50.37721519, 49.86835443],\n",
      "       [48.13164557, 49.11392405, 48.62278481, 48.13164557]]))\n"
     ]
    }
   ],
   "source": [
    "results = stats.chi2_contingency(observed=df2)\n",
    "print(results)"
   ]
  },
  {
   "cell_type": "markdown",
   "id": "8a647b6f",
   "metadata": {},
   "source": [
    "The output shows the chi-square statistic = 8, the p-value as 0.045 and the degrees of freedom as 3\n",
    "The critical value with 3 degree of freedom is 7.815. Since 8.006 > 7.815, therefore we reject the null hypothesis and conclude that the education level depends on gender at a 5% level of significance."
   ]
  },
  {
   "cell_type": "markdown",
   "id": "0fcb57fc",
   "metadata": {},
   "source": [
    "## Problem Statement 2:\n",
    "Using the following data, perform a oneway analysis of variance using α=.05. Write up the results in APA format.\n",
    "\n",
    "[Group1: 51, 45, 33, 45, 67]\n",
    "\n",
    "[Group2: 23, 43, 23, 43, 45]\n",
    "\n",
    "[Group3: 56, 76, 74, 87, 56]"
   ]
  },
  {
   "cell_type": "code",
   "execution_count": 26,
   "id": "e8054859",
   "metadata": {},
   "outputs": [],
   "source": [
    "#The analysis of variance or ANOVA is a statistical inference test that lets you compare multiple groups at the same time. \n",
    "# The one-way ANOVA tests whether the mean of some numeric variable differs across the levels of one categorical variable.\n",
    "# It essentially answers the question: do any of the group means differ from one another?\n",
    "#The scipy library has a function for carrying out one-way ANOVA tests called scipy.stats.f_oneway()"
   ]
  },
  {
   "cell_type": "code",
   "execution_count": 27,
   "id": "24fbda32",
   "metadata": {},
   "outputs": [
    {
     "name": "stdout",
     "output_type": "stream",
     "text": [
      "Statistical value= 9.747205503009463 P value = 0.0030597541434430556\n",
      "Yes, P value is less than 0.05\n"
     ]
    }
   ],
   "source": [
    "group1 = [51, 45, 33, 45, 67]\n",
    "group2 = [23, 43, 23, 43, 45]\n",
    "group3 = [56, 76, 74, 87, 56]\n",
    "\n",
    "\n",
    "# Now to perform Anova Test\n",
    "statistic,p_value = stats.f_oneway(group1,group2,group3)\n",
    "print(f'Statistical value= {statistic} P value = {p_value}')\n",
    "if p_value < 0.05:\n",
    "    print(\"Yes, P value is less than 0.05\")\n",
    "else:\n",
    "    print(\"No, P value is greater than 0.05\")\n",
    "\n",
    "    "
   ]
  },
  {
   "cell_type": "markdown",
   "id": "3a67350b",
   "metadata": {},
   "source": [
    "\"The test result suggests the groups have different same sample means in this example, since the p-value is significant at a 99% confidence level. Here the p-value returned is 0.00305 which is < 0.05"
   ]
  },
  {
   "cell_type": "markdown",
   "id": "e3a29f2a",
   "metadata": {},
   "source": [
    "## Problem Statement 3:\n",
    "Calculate F Test for given 10, 20, 30, 40, 50 and 5,10,15, 20, 25. For 10, 20, 30, 40, 50:"
   ]
  },
  {
   "cell_type": "code",
   "execution_count": 28,
   "id": "c6e74df4",
   "metadata": {},
   "outputs": [
    {
     "name": "stdout",
     "output_type": "stream",
     "text": [
      "Test for given 10, 20, 30, 40, 50 and 5,10,15, 20, 25 is : 4.0\n"
     ]
    }
   ],
   "source": [
    "stats.f_oneway([10, 20, 30, 40, 50],[5,10,15, 20, 25])\n",
    "\n",
    "group1 = [10, 20, 30, 40, 50]\n",
    "group2 = [5,10,15, 20, 25]\n",
    "\n",
    "mean1 = np.mean(group1)\n",
    "mean2 = np.mean(group2)\n",
    "\n",
    "grp1_sub_mean1 = []\n",
    "grp2_sub_mean2 = []\n",
    "\n",
    "add1 = 0\n",
    "add2 = 0\n",
    "\n",
    "for items in group1:\n",
    "    add1 += (items - mean1)**2\n",
    "for items in group2:\n",
    "    add2 += (items - mean2)**2\n",
    "\n",
    "var1 = add1/(len(group1)-1)\n",
    "var2 = add2/(len(group2)-1)\n",
    "\n",
    "f_test = var1/var2\n",
    "\n",
    "print(f'Test for given 10, 20, 30, 40, 50 and 5,10,15, 20, 25 is : {f_test}')\n"
   ]
  },
  {
   "cell_type": "code",
   "execution_count": null,
   "id": "7641d1e2",
   "metadata": {},
   "outputs": [],
   "source": []
  },
  {
   "cell_type": "code",
   "execution_count": null,
   "id": "99982a44",
   "metadata": {},
   "outputs": [],
   "source": []
  }
 ],
 "metadata": {
  "kernelspec": {
   "display_name": "Python 3 (ipykernel)",
   "language": "python",
   "name": "python3"
  },
  "language_info": {
   "codemirror_mode": {
    "name": "ipython",
    "version": 3
   },
   "file_extension": ".py",
   "mimetype": "text/x-python",
   "name": "python",
   "nbconvert_exporter": "python",
   "pygments_lexer": "ipython3",
   "version": "3.10.7"
  }
 },
 "nbformat": 4,
 "nbformat_minor": 5
}
