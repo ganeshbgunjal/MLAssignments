{
 "cells": [
  {
   "cell_type": "code",
   "execution_count": 3,
   "metadata": {},
   "outputs": [
    {
     "name": "stdout",
     "output_type": "stream",
     "text": [
      "First Side: 3.1\n",
      "Second sife: 4.6\n",
      "Third Side: 5\n",
      "Area of Triangle is:  6.982556390749735\n"
     ]
    }
   ],
   "source": [
    "# Que-1.1) write a python program (with class concepts) to find the area of triangle using the below formula\n",
    "# area = (s*(s-a)*(s-b)*(s-c)) ** 0.5\n",
    "\n",
    "# Function to take the length of the sides of triangle from user should be defined in the parent class and function \n",
    "# to calculate the area should be defined in subclass\n",
    "\n",
    "class triangle_sides: \n",
    "    def __init__(self,x,y,z): \n",
    "        self.x = x\n",
    "        self.y = y\n",
    "        self.z = z\n",
    "x = float(input(\"First Side: \"))\n",
    "y = float(input(\"Second sife: \"))\n",
    "z = float(input(\"Third Side: \"))\n",
    "\n",
    "class triangle(triangle_sides): \n",
    "    def __init__(self,x,y,z): \n",
    "        super().__init__(x,y,z)\n",
    "    def area_of_triangle(self): \n",
    "        s = (x + y + z) / 2\n",
    "        return (s*(s-x)*(s-y)*(s-z))**0.5\n",
    "\n",
    "tr = triangle(x,y,z)\n",
    "print(\"Area of Triangle is: \",tr.area_of_triangle())\n"
   ]
  },
  {
   "cell_type": "code",
   "execution_count": 4,
   "metadata": {},
   "outputs": [
    {
     "name": "stdout",
     "output_type": "stream",
     "text": [
      "Enter word size: 5\n",
      "['persuing', 'course', 'machine', 'learning', 'Ineuron', 'Sudhanshu']\n"
     ]
    }
   ],
   "source": [
    "# Que 2.2) Write a function filter_log_words() that takes a list of words and an integer n and \n",
    "# returns the list of words that are no longer than n\n",
    "\n",
    "example = 'I am persuing course of machine learning in Ineuron with Sudhanshu Sir'\n",
    "word_size = int(input(\"Enter word size: \"))\n",
    "def filter_long_words(n, str):\n",
    "    word_len = []\n",
    "    txt = str.split(\" \")\n",
    "    for x in txt:\n",
    "        if len(x) > n:\n",
    "            word_len.append(x)\n",
    "    return word_len    \n",
    "print(filter_long_words(word_size, example))  # here we give size of the word is 3. \n"
   ]
  },
  {
   "cell_type": "code",
   "execution_count": 9,
   "metadata": {},
   "outputs": [
    {
     "name": "stdout",
     "output_type": "stream",
     "text": [
      "[3, 6, 4, 16]\n"
     ]
    }
   ],
   "source": [
    "# Que-2.1) Write a program using function concept that maps list of the words into a list of integers \n",
    "# representing the lengths of the corresponding words\n",
    "# Hint:- If a list [ab,cde,erty] is passed on to the python function ooutput should come as [2,3,4]\n",
    "# Here 2,3,4 is lengths of the word in a list. \n",
    "\n",
    "def map_to_lengths_for(words):\n",
    "    '''function to check length of the given word'''\n",
    "    lengths = []\n",
    "    for word in words:\n",
    "        lengths.append(len(word)) # we append length of the word in the list.\n",
    "    return lengths\n",
    "\n",
    "words = ['abv', 'try me', 'test','machine learning'] \n",
    "print(map_to_lengths_for(words))\n"
   ]
  },
  {
   "cell_type": "code",
   "execution_count": 26,
   "metadata": {},
   "outputs": [
    {
     "name": "stdout",
     "output_type": "stream",
     "text": [
      "Enter single character: D\n"
     ]
    },
    {
     "data": {
      "text/plain": [
       "False"
      ]
     },
     "execution_count": 26,
     "metadata": {},
     "output_type": "execute_result"
    }
   ],
   "source": [
    "# Que-2.2) Write a python function which takes a character(i.e. a string of length 1) and returns True\n",
    "# if it vowel,False otherwise\n",
    "char = input(\"Enter single character: \")\n",
    "def vowel_check(char): \n",
    "    '''function to check whether given character is vowel or not'''\n",
    "    if (char == 'a') or (char =='e') or (char =='i') or (char =='o') or (char =='u') or (char =='A')\\\n",
    "    or (char =='E') or (char =='I') or (char =='O') or (char =='U'):\n",
    "        return True\n",
    "    else: \n",
    "        return False\n",
    "vowel_check(char)"
   ]
  }
 ],
 "metadata": {
  "kernelspec": {
   "display_name": "Python 3",
   "language": "python",
   "name": "python3"
  },
  "language_info": {
   "codemirror_mode": {
    "name": "ipython",
    "version": 3
   },
   "file_extension": ".py",
   "mimetype": "text/x-python",
   "name": "python",
   "nbconvert_exporter": "python",
   "pygments_lexer": "ipython3",
   "version": "3.7.4"
  }
 },
 "nbformat": 4,
 "nbformat_minor": 2
}
