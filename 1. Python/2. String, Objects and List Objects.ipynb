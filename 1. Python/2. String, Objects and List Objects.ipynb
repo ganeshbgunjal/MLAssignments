{
 "cells": [
  {
   "cell_type": "code",
   "execution_count": 1,
   "metadata": {},
   "outputs": [
    {
     "name": "stdout",
     "output_type": "stream",
     "text": [
      "Enter Number of Rows: 5\n",
      "* \n",
      "* * \n",
      "* * * \n",
      "* * * * \n",
      "* * * * * \n",
      "* * * * \n",
      "* * * \n",
      "* * \n",
      "* \n",
      "\n"
     ]
    }
   ],
   "source": [
    "# # Que-1)Create the below pattern using nested for loop in Python.\n",
    "#         *\n",
    "#         **\n",
    "#         ***\n",
    "#         ****\n",
    "#         *****\n",
    "#         ****\n",
    "#         ***\n",
    "#         **\n",
    "#         *\n",
    "\n",
    "numberOfRows = int(input('Enter Number of Rows: '))\n",
    "for i in range(numberOfRows):\n",
    "    for j in range(i+1): \n",
    "        print('*',end=' ')\n",
    "    print()\n",
    "for a in range(numberOfRows,0,-1):\n",
    "    for b in range(a-1):\n",
    "        print('*',end=' ')\n",
    "    print()\n",
    "\n",
    "        "
   ]
  },
  {
   "cell_type": "code",
   "execution_count": 4,
   "metadata": {},
   "outputs": [
    {
     "name": "stdout",
     "output_type": "stream",
     "text": [
      "Enter string to reverse: ineuron\n",
      "Original String is:   ineuron\n",
      "reversed String is:   norueni\n"
     ]
    }
   ],
   "source": [
    "# Que-2) Write a Python program to reverse a word after accepting the input from the user.\n",
    "#        Input word: ineuron\n",
    "#        Output:     norueni\n",
    "\n",
    "string = input('Enter string to reverse: ')\n",
    "revString = ''.join(reversed(string))\n",
    "print('Original String is:  ',string)\n",
    "print('reversed String is:  ',revString)\n"
   ]
  }
 ],
 "metadata": {
  "kernelspec": {
   "display_name": "Python 3",
   "language": "python",
   "name": "python3"
  },
  "language_info": {
   "codemirror_mode": {
    "name": "ipython",
    "version": 3
   },
   "file_extension": ".py",
   "mimetype": "text/x-python",
   "name": "python",
   "nbconvert_exporter": "python",
   "pygments_lexer": "ipython3",
   "version": "3.7.4"
  }
 },
 "nbformat": 4,
 "nbformat_minor": 2
}
