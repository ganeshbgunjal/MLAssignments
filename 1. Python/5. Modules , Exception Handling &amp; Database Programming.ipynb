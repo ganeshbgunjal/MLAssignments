{
 "cells": [
  {
   "cell_type": "code",
   "execution_count": 3,
   "metadata": {},
   "outputs": [
    {
     "name": "stdout",
     "output_type": "stream",
     "text": [
      "Enter number: 5\n",
      "Error is:  division by zero\n",
      "All is done successfully\n"
     ]
    }
   ],
   "source": [
    "# Que-1) Write a function to compute 5/0 and use try/except to catch the exceptions.\n",
    "\n",
    "number = int(input('Enter number: '))\n",
    "def zeroDivisionError(): \n",
    "    '''function to show zero division error when divided by zero'''\n",
    "    try: \n",
    "        number/0\n",
    "    except Exception as e:\n",
    "        print('Error is: ',e)\n",
    "    finally:\n",
    "        print('All is done successfully')\n",
    "        \n",
    "\n",
    "zeroDivisionError()\n",
    "        "
   ]
  },
  {
   "cell_type": "code",
   "execution_count": 17,
   "metadata": {},
   "outputs": [
    {
     "name": "stdout",
     "output_type": "stream",
     "text": [
      "Americans Play Baseball\n",
      "Americans Play Cricket\n",
      "Americans Watch Baseball\n",
      "Americans Watch Cricket\n",
      "Indian Play Baseball\n",
      "Indian Play Cricket\n",
      "Indian Watch Baseball\n",
      "Indian Watch Cricket\n"
     ]
    }
   ],
   "source": [
    "# Que-2) Implement a python program to generate all sentence where subject is in ['Americans','Indian']\n",
    "# and verb is in ['play','watch'] and the object is in ['Baseball','Cricket'].\n",
    "\n",
    "Subjects = ['Americans','Indian']\n",
    "Verbs = ['Play','Watch']\n",
    "Objects = ['Baseball','Cricket']\n",
    "\n",
    "\n",
    "structure = [(Sub +' ' + vrb + ' ' + Objct) for Sub in Subjects for vrb in Verbs for Objct in Objects]\n",
    "\n",
    "for stru in structure: \n",
    "    print(stru)"
   ]
  }
 ],
 "metadata": {
  "kernelspec": {
   "display_name": "Python 3",
   "language": "python",
   "name": "python3"
  },
  "language_info": {
   "codemirror_mode": {
    "name": "ipython",
    "version": 3
   },
   "file_extension": ".py",
   "mimetype": "text/x-python",
   "name": "python",
   "nbconvert_exporter": "python",
   "pygments_lexer": "ipython3",
   "version": "3.7.4"
  }
 },
 "nbformat": 4,
 "nbformat_minor": 2
}
