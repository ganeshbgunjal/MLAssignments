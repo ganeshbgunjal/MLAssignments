{
 "cells": [
  {
   "cell_type": "code",
   "execution_count": 19,
   "metadata": {},
   "outputs": [],
   "source": [
    "# Problem statement\n",
    "# Write a function so that the columns of the output matrix are powers of the input\n",
    "# vector.\n",
    "\n",
    "# The order of the powers is determined by the increasing boolean argument. Specifically, when\n",
    "# increasing is False, the i-th output column is the input vector raised element-wise to the power\n",
    "# of N - i - 1.\n",
    "\n",
    "# HINT: Such a matrix with a geometric progression in each row is named for Alexandre-\n",
    "# Theophile Vandermonde"
   ]
  },
  {
   "cell_type": "code",
   "execution_count": 20,
   "metadata": {},
   "outputs": [],
   "source": [
    "import numpy as np\n",
    "\n",
    "x = np.array([1,2,3,4,5])\n",
    "n = 5\n",
    "\n",
    "mat = np.column_stack([x**(n-i-1) for i in range(n)])"
   ]
  },
  {
   "cell_type": "code",
   "execution_count": 21,
   "metadata": {},
   "outputs": [
    {
     "name": "stdout",
     "output_type": "stream",
     "text": [
      "[[  1   1   1   1   1]\n",
      " [ 16   8   4   2   1]\n",
      " [ 81  27   9   3   1]\n",
      " [256  64  16   4   1]\n",
      " [625 125  25   5   1]]\n"
     ]
    }
   ],
   "source": [
    "print(mat)"
   ]
  },
  {
   "cell_type": "code",
   "execution_count": 22,
   "metadata": {},
   "outputs": [
    {
     "name": "stdout",
     "output_type": "stream",
     "text": [
      "[[  1   1   1   1   1]\n",
      " [ 16   8   4   2   1]\n",
      " [ 81  27   9   3   1]\n",
      " [256  64  16   4   1]\n",
      " [625 125  25   5   1]]\n"
     ]
    }
   ],
   "source": [
    "# Similar matrix we can create using np.vander function in numpy\n",
    "a = np.array([1,2,3,4,5])\n",
    "N = 5\n",
    "mat1 = np.vander(a,N,increasing=False)\n",
    "\n",
    "print(mat1)"
   ]
  },
  {
   "cell_type": "code",
   "execution_count": null,
   "metadata": {},
   "outputs": [],
   "source": [
    "# Problem statement\n",
    "\n",
    "# Given a sequence of n values x1,x2, .....xn and a window size K>0, then k th moving average of the given sequence \n",
    "# is defined as  follows: \n",
    "\n",
    "# the moving average average sequence has n-k+1 elements as shown in below\n",
    "\n",
    "# The moving average with k=4 of a ten value sequence (n=10) is shown below\n",
    "\n",
    "# i 1 2 3 4 5 6 7 8 9 10\n",
    "\n",
    "# -----------------------------------------------------------------------------   \n",
    "\n",
    "# Input 10 20 30 40 50 60 70 80 90 100\n",
    "\n",
    "# y1 25 = (10+20+30+40)/4\n",
    "\n",
    "# y2 35 = (20+30+40+50)/4\n",
    "\n",
    "# y3 45 = (30+40+50+60)/4\n",
    "\n",
    "# y4 55 = (40+50+60+70)/4\n",
    "\n",
    "# y5 65 = (50+60+70+80)/4\n",
    "\n",
    "# y6 75 = (60+70+80+90)/4\n",
    "\n",
    "# y7 85 = (70+80+90+100)/4\n",
    "\n",
    "# Thus, the moving average sequence has n-k+1=10-4+1=7 values."
   ]
  },
  {
   "cell_type": "code",
   "execution_count": 23,
   "metadata": {},
   "outputs": [],
   "source": [
    "# Problem statement\n",
    "# write a function to find moving average in an array over a window.\n",
    "# Test it over [3,5,7,2,8,10,11,65,72,81,99,100,150] and windows of 3. "
   ]
  },
  {
   "cell_type": "code",
   "execution_count": 26,
   "metadata": {},
   "outputs": [],
   "source": [
    "def moving_avg(a,n=3): #given window is 3\n",
    "    ret = np.cumsum(a, dtype=float)\n",
    "    ret[n:] = ret[n:] - ret[:-n]\n",
    "    return ret[n-1:]/n"
   ]
  },
  {
   "cell_type": "code",
   "execution_count": 27,
   "metadata": {},
   "outputs": [
    {
     "name": "stdout",
     "output_type": "stream",
     "text": [
      "[  5.           4.66666667   5.66666667   6.66666667   9.66666667\n",
      "  28.66666667  49.33333333  72.66666667  84.          93.33333333\n",
      " 116.33333333]\n"
     ]
    }
   ],
   "source": [
    "x = [3, 5, 7, 2, 8, 10, 11, 65, 72, 81, 99, 100, 150]\n",
    "print(moving_avg(x, n=3))"
   ]
  }
 ],
 "metadata": {
  "kernelspec": {
   "display_name": "Python 3",
   "language": "python",
   "name": "python3"
  },
  "language_info": {
   "codemirror_mode": {
    "name": "ipython",
    "version": 3
   },
   "file_extension": ".py",
   "mimetype": "text/x-python",
   "name": "python",
   "nbconvert_exporter": "python",
   "pygments_lexer": "ipython3",
   "version": "3.7.4"
  }
 },
 "nbformat": 4,
 "nbformat_minor": 2
}
