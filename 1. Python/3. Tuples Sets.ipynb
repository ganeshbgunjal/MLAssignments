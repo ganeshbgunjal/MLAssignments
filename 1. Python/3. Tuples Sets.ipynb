{
 "cells": [
  {
   "cell_type": "code",
   "execution_count": 1,
   "metadata": {},
   "outputs": [
    {
     "name": "stdout",
     "output_type": "stream",
     "text": [
      "**** Input ****\n",
      "Enter the number: 5\n",
      "**** Output ****\n",
      "Product of numbers is:  ([1, 2, 3, 4, 5], 120)\n"
     ]
    }
   ],
   "source": [
    "# Que-1.1) Write a Python Program to implement your own myreduce() function which works exactly\n",
    "#        like Python's built-in function reduce()\n",
    "\n",
    "\n",
    "# reduce Function does rolling computation \n",
    "\n",
    "# input \n",
    "\n",
    "print('**** Input ****')\n",
    "number = int(input(\"Enter the number: \"))   # typecasting Str to int\n",
    "\n",
    "def Myreduce(number): \n",
    "    '''function for return product of natural numbers'''   #documentation\n",
    "    number_list = list(range(1,number+1))\n",
    "    product_of_element = 1\n",
    "    \n",
    "    for i in number_list: \n",
    "        product_of_element *= i\n",
    "    return number_list,product_of_element \n",
    "\n",
    "\n",
    "# output\n",
    "print('**** Output ****')\n",
    "print('Product of numbers is: ',Myreduce(number))"
   ]
  },
  {
   "cell_type": "code",
   "execution_count": 23,
   "metadata": {},
   "outputs": [
    {
     "name": "stdout",
     "output_type": "stream",
     "text": [
      "Input\n",
      "Enter the number: 20\n",
      "**** output ****\n",
      "original list [1, 2, 3, 4, 5, 6, 7, 8, 9, 10, 11, 12, 13, 14, 15, 16, 17, 18, 19, 20]\n",
      "***********************************\n",
      "Even NUmber List: [2, 4, 6, 8, 10, 12, 14, 16, 18, 20]\n",
      "***********************************\n",
      "Odd number List [1, 3, 5, 7, 9, 11, 13, 15, 17, 19]\n"
     ]
    }
   ],
   "source": [
    "# Que-1.2) Write a Python program to implement your own myfilter() function which works exactly\n",
    "#        like Python's built-in function filter()\n",
    "\n",
    "#   The filter() function returns an iterator where the items are filtered through a function to\n",
    "#   test if the item is accepted or not.\n",
    "\n",
    "# take input from user\n",
    "\n",
    "print('Input')\n",
    "number = int(input('Enter the number: ')) # typecasting Str to int\n",
    "\n",
    "numberList = list(range(1,number + 1)) # will give range between 1 to inserted number\n",
    "def myfilter(numberList): \n",
    "    '''function for filtering odd and even value from the given sequance''' # documentation for function \n",
    "    oddNumber_list = []  # we taken list here.. lists are mutable\n",
    "    evenNumber_list = []\n",
    "    \n",
    "    for i in numberList: \n",
    "        if i % 2 == 0: \n",
    "            evenNumber_list.append(i)\n",
    "        else: \n",
    "            oddNumber_list.append(i)\n",
    "    return evenNumber_list, oddNumber_list\n",
    "# output\n",
    "output = myfilter(numberList) #stored result of function in one variable\n",
    "\n",
    "\n",
    "\n",
    "print('**** output ****')\n",
    "print('original list',numberList)\n",
    "print('***********************************')\n",
    "print('Even NUmber List:',output[0])\n",
    "print('***********************************')\n",
    "print('Odd number List',output[1])\n",
    "        "
   ]
  },
  {
   "cell_type": "code",
   "execution_count": 14,
   "metadata": {},
   "outputs": [
    {
     "name": "stdout",
     "output_type": "stream",
     "text": [
      "['x', 'xx', 'xxx', 'xxxx', 'y', 'yy', 'yyy', 'yyyy', 'z', 'zz', 'zzz', 'zzzz']\n"
     ]
    }
   ],
   "source": [
    "# Que-2) Implement List comprehensions to produce following lists. \n",
    "#         Write list comprehensions to produce following lists\n",
    "\n",
    "#     ['x', 'xx', 'xxx', 'xxxx', 'y', 'yy', 'yyy', 'yyyy', 'z', 'zz', 'zzz', 'zzzz']\n",
    "#     ['x', 'y', 'z', 'xx', 'yy', 'zz', 'xxx', 'yyy', 'zzz', 'xxxx', 'yyyy', 'zzzz']\n",
    "#     [[2], [3], [4], [3], [4], [5], [4], [5], [6]] [[2, 3, 4, 5], [3, 4, 5, 6],\n",
    "#     [4, 5, 6, 7], [5, 6, 7, 8]]\n",
    "#     [(1, 1), (2, 1), (3, 1), (1, 2), (2, 2), (3, 2), (1, 3), (2, 3), (3, 3)]\n",
    "\n",
    "# Input 1\n",
    "# ['x', 'xx', 'xxx', 'xxxx', 'y', 'yy', 'yyy', 'yyyy', 'z', 'zz', 'zzz', 'zzzz']\n",
    "Input_List = ['x','y','z']\n",
    "\n",
    "result = [element * num for element in Input_List for num in range(1,5)]\n",
    "print(result)"
   ]
  },
  {
   "cell_type": "code",
   "execution_count": 15,
   "metadata": {},
   "outputs": [
    {
     "name": "stdout",
     "output_type": "stream",
     "text": [
      "['x', 'y', 'z', 'xx', 'yy', 'zz', 'xxx', 'yyy', 'zzz', 'xxxx', 'yyyy', 'zzzz']\n"
     ]
    }
   ],
   "source": [
    "#input 2\n",
    "# ['x', 'y', 'z', 'xx', 'yy', 'zz', 'xxx', 'yyy', 'zzz', 'xxxx', 'yyyy', 'zzzz']\n",
    "Input_List = ['x','y','z']\n",
    "r2 = [ele * num for num in range(1,5) for ele in Input_List]\n",
    "print(str(r2))"
   ]
  },
  {
   "cell_type": "code",
   "execution_count": 16,
   "metadata": {},
   "outputs": [
    {
     "name": "stdout",
     "output_type": "stream",
     "text": [
      "[[2], [3], [4], [3], [4], [5], [4], [5], [6]]\n"
     ]
    }
   ],
   "source": [
    "# input 3\n",
    "# [[2], [3], [4], [3], [4], [5], [4], [5], [6]]\n",
    "input_list = [2,3,4]\n",
    "\n",
    "result = [[element + number] for element in input_list for number in range(0,3)]\n",
    "\n",
    "print(str(result))"
   ]
  },
  {
   "cell_type": "code",
   "execution_count": 17,
   "metadata": {},
   "outputs": [
    {
     "name": "stdout",
     "output_type": "stream",
     "text": [
      "[[2, 3, 4], [3, 4, 5], [4, 5, 6], [5, 6, 7]]\n"
     ]
    }
   ],
   "source": [
    "# input 4\n",
    "# [[2, 3, 4, 5], [3, 4, 5, 6],[4, 5, 6, 7], [5, 6, 7, 8]]\n",
    "Input_List = [2,3,4,5]\n",
    "res = [ [item + number for item in input_list] for number in range(0,4)  ]\n",
    "print(str(res))"
   ]
  },
  {
   "cell_type": "code",
   "execution_count": 18,
   "metadata": {},
   "outputs": [
    {
     "name": "stdout",
     "output_type": "stream",
     "text": [
      "[(1, 1), (2, 1), (3, 1), (1, 2), (2, 2), (3, 2), (1, 3), (2, 3), (3, 3)]\n"
     ]
    }
   ],
   "source": [
    "# Input 5\n",
    "#  [(1, 1), (2, 1), (3, 1), (1, 2), (2, 2), (3, 2), (1, 3), (2, 3), (3, 3)]\n",
    "Input_List = [1,2,3]\n",
    "res = [(j,i) for i in Input_List for j in Input_List]\n",
    "print(res)"
   ]
  }
 ],
 "metadata": {
  "kernelspec": {
   "display_name": "Python 3",
   "language": "python",
   "name": "python3"
  },
  "language_info": {
   "codemirror_mode": {
    "name": "ipython",
    "version": 3
   },
   "file_extension": ".py",
   "mimetype": "text/x-python",
   "name": "python",
   "nbconvert_exporter": "python",
   "pygments_lexer": "ipython3",
   "version": "3.7.4"
  }
 },
 "nbformat": 4,
 "nbformat_minor": 2
}
